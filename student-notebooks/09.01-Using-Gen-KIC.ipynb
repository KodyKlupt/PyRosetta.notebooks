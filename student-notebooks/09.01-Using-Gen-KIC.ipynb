{
 "cells": [
  {
   "cell_type": "markdown",
   "metadata": {
    "id": "VfO22GAhZhVu"
   },
   "source": [
    "<!--NOTEBOOK_HEADER-->\n",
    "*This notebook contains material from [PyRosetta](https://RosettaCommons.github.io/PyRosetta.notebooks);\n",
    "content is available [on Github](https://github.com/RosettaCommons/PyRosetta.notebooks.git).*"
   ]
  },
  {
   "cell_type": "markdown",
   "metadata": {
    "id": "yla08vzyZhVx"
   },
   "source": [
    "<!--NAVIGATION-->\n",
    "< [Loop Modeling](http://nbviewer.jupyter.org/github/RosettaCommons/PyRosetta.notebooks/blob/master/notebooks/09.00-Loop-Modeling.ipynb) | [Contents](toc.ipynb) | [Index](index.ipynb) | [Working With Symmetry](http://nbviewer.jupyter.org/github/RosettaCommons/PyRosetta.notebooks/blob/master/notebooks/10.00-Working-With-Symmetry.ipynb) ><p><a href=\"https://colab.research.google.com/github/RosettaCommons/PyRosetta.notebooks/blob/master/notebooks/09.01-Using-Gen-KIC.ipynb\"><img align=\"left\" src=\"https://colab.research.google.com/assets/colab-badge.svg\" alt=\"Open in Colab\" title=\"Open in Google Colaboratory\"></a>"
   ]
  },
  {
   "cell_type": "markdown",
   "metadata": {
    "id": "L92yhwlTZhVx"
   },
   "source": [
    "# Using Rosetta Gen KIC\n",
    "Keywords: loop modeling, GeneralizedKIC"
   ]
  },
  {
   "cell_type": "code",
   "execution_count": null,
   "metadata": {
    "ExecuteTime": {
     "end_time": "2020-05-04T01:42:31.219767Z",
     "start_time": "2020-05-04T01:42:25.908305Z"
    },
    "colab": {
     "base_uri": "https://localhost:8080/",
     "height": 173
    },
    "id": "6iBBLZcAZhVy",
    "outputId": "259a3c25-4dcf-415f-c808-de1bb6d51b3b"
   },
   "outputs": [],
   "source": [
    "# Notebook setup\n",
    "!pip install pyrosettacolabsetup\n",
    "import pyrosettacolabsetup; pyrosettacolabsetup.install_pyrosetta()\n",
    "import pyrosetta; pyrosetta.init()\n",
    "\n",
    "# py3Dmol setup (if there's an error, make sure you have 'py3Dmol' and 'ipywidgets' pip installed)\n",
    "!pip install py3Dmol\n",
    "import glob\n",
    "import logging\n",
    "logging.basicConfig(level=logging.INFO)\n",
    "import os\n",
    "import pyrosetta.distributed\n",
    "import pyrosetta.distributed.io as io\n",
    "import pyrosetta.distributed.viewer as viewer"
   ]
  },
  {
   "cell_type": "markdown",
   "metadata": {
    "id": "dZ7xV21MZhV0"
   },
   "source": [
    "# Introduction to Kinematic Closure (KIC)\n",
    "Kinematic closure algorithms were originally developed for the robotics field to solve the problem of determining the necessary joint angles that would place a robot's hand or foot in a desired place. We have adapted them for use within the Rosetta software suite to sample conformations of chains of atoms with well-defined start and end points.\n",
    "\n",
    "A molecular kinematic closure problem may be described as follows: given a covalently-contiguous chain of atoms within a molecule, with covalent linkages at the ends of the chain fixing the start and end of the chain, what possible conformations maintain the integrity of bond length, bond angle, and dihedral angle restrictions within the chain? To solve such a problem, we divide the chain of atoms into two segments, and define \"pivot points\" at the start of the chain (the first pivot), the end of the chain (the last pivot), and the breakpoint between the two segments (the middle pivot).\n",
    "\n",
    "Having done this, the degrees of freedom within the two segments may be held fixed, randomized, perturbed, or otherwise altered as one sees fit. These degrees of freedom include bond lengths, bond angles, and dihedral angles. Whatever one does to these degrees of freedom, one ends up with two segments that still have well-defined rigid body transforms from the first pivot to the middle pivot (in the first segment), and from the middle pivot to the last pivot (in the second segment). It is then possible to solve a system of equations for the six torsion angles adjacent to the three pivots in order to keep the system closed. The matrix math that gives rise to the solution(s) is extremely fast as compared to alternative loop closure methods (which typically rely on iterative gradient-descent minimization); however, for a given system, this step may yield anywhere from 0 to 16 solutions. It then becomes necessary to choose a solution for downstream molecular design or conformational refinement.\n",
    "\n",
    "The GeneralizedKIC mover in Rosetta gives a user full control over pre-closure sampling, post-closure filtering, and selection of a closure solution. It also allows closure of chains that do not consist solely of polypeptide backbones: that is, it is fully compatible with closure of atomic chains that run through disulfide bonds, arbitrary side-chain cross-links or cross-linkers, and non-canonical backbones.\n",
    "\n",
    "GenKic is **Extremely** flexible. It can deifine entire topologies<sup>1,2</sup> or rebuild small loops. Accordingly, we are defining lots of functions to show you how you would configure PyRosetta to accomplish a general GenKic task.\n",
    "\n",
    "1. [Accurate de novo design of hyperstable constrained peptides](https://www.ncbi.nlm.nih.gov/pubmed/27626386)\n",
    "2. [Comprehensive computational design of ordered peptide macrocycles](https://www.ncbi.nlm.nih.gov/pubmed/29242347)"
   ]
  },
  {
   "cell_type": "markdown",
   "metadata": {
    "id": "6qiK4x9WZhV0"
   },
   "source": [
    "# Exercise: Building and Closing a Polypeptide Loop Using PyRosetta\n",
    "\n",
    "For this exercise, we will be using an NMR structure of an artificial mini-protein designed by Dr. Chris Bahl (PDB ID 2ND2). This mini-protein is a 44-residue 3-helix bundle. For the purposes of this tutorial, we will define two poses. One complete structure, and one structure has been stripped of its amino acid sequence (i.e. it has been mutated to poly-glycine), and the loop connecting the second and third helices has been deleted. This is meant to simulate many common design cases, in which one might arrange secondary structure elements first and build loops later (e.g. in the case of parametric design approaches), as well as certain structure prediction cases, in which one might wish to model loops that are missing in crystal structures. We will rebuild this loop and sample its possible conformations."
   ]
  },
  {
   "cell_type": "code",
   "execution_count": null,
   "metadata": {
    "id": "LIQOQScXbnUA"
   },
   "outputs": [],
   "source": [
    "# cd google_drive/MyDrive/student-notebooks"
   ]
  },
  {
   "cell_type": "code",
   "execution_count": null,
   "metadata": {
    "ExecuteTime": {
     "end_time": "2020-05-04T01:42:32.750392Z",
     "start_time": "2020-05-04T01:42:31.222156Z"
    },
    "colab": {
     "base_uri": "https://localhost:8080/"
    },
    "id": "LvdN0N1rZhV0",
    "outputId": "9dc7d80a-c5e6-4129-fc9c-1edd67cc3ea0"
   },
   "outputs": [],
   "source": [
    "from pyrosetta import pose_from_pdb\n",
    "\n",
    "input_pose = pose_from_pdb('inputs/2ND2_state1_glyonly.pdb')\n",
    "input_pose_no_loop = pose_from_pdb('inputs/2ND2_state1_glyonly_loop_removed.pdb')"
   ]
  },
  {
   "cell_type": "markdown",
   "metadata": {
    "id": "yMHAWV4xZhV0"
   },
   "source": [
    "Let's view the two poses (notice that the second one is missing a loop):|"
   ]
  },
  {
   "cell_type": "code",
   "execution_count": null,
   "metadata": {
    "ExecuteTime": {
     "end_time": "2020-05-04T01:42:32.758268Z",
     "start_time": "2020-05-04T01:42:32.753883Z"
    },
    "id": "Gdeyv8D0ZhV1"
   },
   "outputs": [],
   "source": [
    "helix_selector = pyrosetta.rosetta.core.select.residue_selector.SecondaryStructureSelector(\"H\")\n",
    "loop_selector = pyrosetta.rosetta.core.select.residue_selector.SecondaryStructureSelector(\"L\")\n",
    "\n",
    "modules = [\n",
    "    viewer.setBackgroundColor(color=\"black\"),\n",
    "    viewer.setStyle(residue_selector=helix_selector, cartoon_color=\"blue\", label=False, radius=0),\n",
    "    viewer.setStyle(residue_selector=loop_selector, cartoon_color=\"yellow\", label=False, radius=0),\n",
    "    viewer.setZoomTo(residue_selector=loop_selector)\n",
    "]\n"
   ]
  },
  {
   "cell_type": "code",
   "execution_count": null,
   "metadata": {
    "ExecuteTime": {
     "end_time": "2020-05-04T01:42:33.037218Z",
     "start_time": "2020-05-04T01:42:32.760972Z"
    },
    "colab": {
     "base_uri": "https://localhost:8080/",
     "height": 617
    },
    "id": "IYTiFRoUZhV1",
    "outputId": "30af2744-9cf6-48bc-b494-87ff2d29abaf"
   },
   "outputs": [],
   "source": [
    "view = viewer.init(input_pose, window_size=(800, 600), modules=modules).show()"
   ]
  },
  {
   "cell_type": "code",
   "execution_count": null,
   "metadata": {
    "ExecuteTime": {
     "end_time": "2020-05-04T01:42:33.312127Z",
     "start_time": "2020-05-04T01:42:33.039141Z"
    },
    "colab": {
     "base_uri": "https://localhost:8080/",
     "height": 617
    },
    "id": "kGUaSHJZZhV1",
    "outputId": "64ec14b7-c384-4bed-92fd-fffa349b7bfd"
   },
   "outputs": [],
   "source": [
    "view = viewer.init(input_pose_no_loop, window_size=(800, 600), modules=modules).show()"
   ]
  },
  {
   "cell_type": "markdown",
   "metadata": {
    "id": "KV8QgME_ZhV1"
   },
   "source": [
    "## Step 1: Preparing to close loop\n",
    "The GeneralizedKIC mover is only capable of sampling conformations of existing geometry. It can neither add amino acid residues to a pose, nor create new bonds between residues. For this reason, we will use PyRosetta to make all the changes to the pose, and then use GenKic to idealize the bond angles and lengths.\n",
    "\n",
    "### Mutate Termini to Alanine\n",
    "The first thing we have to do with PyRosetta, is make a pose that can be applied by GenKic. To do that we will have to manipulate the Pose. Let's first examine the break in the pose:"
   ]
  },
  {
   "cell_type": "code",
   "execution_count": null,
   "metadata": {
    "ExecuteTime": {
     "end_time": "2020-05-04T01:42:33.317293Z",
     "start_time": "2020-05-04T01:42:33.314187Z"
    },
    "colab": {
     "base_uri": "https://localhost:8080/"
    },
    "id": "3s_os16nZhV2",
    "outputId": "c871878a-7277-4585-c07b-9b144d8bf8af"
   },
   "outputs": [],
   "source": [
    "##The c terminus of one helix\n",
    "print(input_pose_no_loop.residue(28).name())\n",
    "\n",
    "#The N terminus of the other helix\n",
    "print(input_pose_no_loop.residue(29).name())"
   ]
  },
  {
   "cell_type": "markdown",
   "metadata": {
    "id": "tjUIU8AFZhV2"
   },
   "source": [
    "The input pose has a break between pose residue 28 and 29. First thing to do is change those terminal glycines to alanines. We do this for two reasons:\n",
    "\n",
    "\n",
    "1.   Gly:Termini residue types complain when we try to join residues to them using the `pose.join_residue_by_bond` method.\n",
    "2.   Alanines work better as loop termini pivot points as they sample more diverse rama space. See V.M. original tutorial."
   ]
  },
  {
   "cell_type": "code",
   "execution_count": null,
   "metadata": {
    "ExecuteTime": {
     "end_time": "2020-05-04T01:42:33.328997Z",
     "start_time": "2020-05-04T01:42:33.318924Z"
    },
    "colab": {
     "base_uri": "https://localhost:8080/"
    },
    "id": "cNE2vXLcZhV2",
    "outputId": "5a436b31-9c17-494c-89c4-c515cf249621"
   },
   "outputs": [],
   "source": [
    "def mutate_position(pose,position,mutate):\n",
    "    '''A simple function to mutate an amino acid given a pose number'''\n",
    "    mr = pyrosetta.rosetta.protocols.simple_moves.MutateResidue()\n",
    "    mr.set_target(position)\n",
    "    mr.set_res_name(mutate)\n",
    "    mr.apply(pose)\n",
    "\n",
    "##Mutate both 28 and 29 to ALA\n",
    "mutate_position(input_pose_no_loop,28,'ALA')\n",
    "mutate_position(input_pose_no_loop,29,'ALA')\n",
    "assert(input_pose_no_loop.residue(28).name() == 'ALA')\n",
    "assert(input_pose_no_loop.residue(29).name() == 'ALA')"
   ]
  },
  {
   "cell_type": "code",
   "execution_count": null,
   "metadata": {
    "ExecuteTime": {
     "end_time": "2020-05-04T01:42:33.333168Z",
     "start_time": "2020-05-04T01:42:33.330835Z"
    },
    "code_folding": [],
    "id": "15oYQvK0ZhV2"
   },
   "outputs": [],
   "source": [
    "#Use the print statements above to check that we successfully mutated the residues:"
   ]
  },
  {
   "cell_type": "markdown",
   "metadata": {
    "id": "Dx1DmGhjZhV2"
   },
   "source": [
    "### Slice Pose\n",
    "The next step is to slice the pose into two seperate python pose objects and then we can easily join those objects with any number of arbitrary residues, to grow and shrink a loop as necessary"
   ]
  },
  {
   "cell_type": "code",
   "execution_count": null,
   "metadata": {
    "ExecuteTime": {
     "end_time": "2020-05-04T01:42:33.340996Z",
     "start_time": "2020-05-04T01:42:33.334959Z"
    },
    "id": "aEEAo6IhZhV3"
   },
   "outputs": [],
   "source": [
    "from pyrosetta import Pose\n",
    "\n",
    "def slice_pose(p,start,end):\n",
    "    '''\n",
    "    Take a pose object and return from start, end\n",
    "    '''\n",
    "    sliced = Pose()\n",
    "    if end > p.size() or start > p.size():\n",
    "        return \"end/start slice is longer than total lenght of pose {} {}\".format(start,end)\n",
    "    for i in range(start,end+1):\n",
    "        sliced.append_residue_by_bond(p.residue(i))\n",
    "    return sliced\n",
    "\n",
    "##Pose object 1 - helix_AB all the way up to residue 28\n",
    "helix_ab_pose = slice_pose(input_pose_no_loop,1,28)\n",
    "\n",
    "##Pose object 2 - helix C and the reaminder of the pose\n",
    "helix_c_pose = slice_pose(input_pose_no_loop,29,input_pose_no_loop.size())"
   ]
  },
  {
   "cell_type": "markdown",
   "metadata": {
    "id": "h2dm5GxAZhV3"
   },
   "source": [
    "Since we created a new pose, we should apply some PDB info to it. It makes things easier when we want to view or manipulate the pose using PDB numbering in downstream steps"
   ]
  },
  {
   "cell_type": "code",
   "execution_count": null,
   "metadata": {
    "ExecuteTime": {
     "end_time": "2020-05-04T01:42:33.878899Z",
     "start_time": "2020-05-04T01:42:33.342807Z"
    },
    "colab": {
     "base_uri": "https://localhost:8080/",
     "height": 617
    },
    "id": "tZmgbV21ZhV3",
    "outputId": "7a191c89-1711-401c-f98a-7c24a02c8f97"
   },
   "outputs": [],
   "source": [
    "# We're just going to quicky add in pdb info so that our viewing commands work\n",
    "add_pdb_info_mover = pyrosetta.rosetta.protocols.simple_moves.AddPDBInfoMover()\n",
    "add_pdb_info_mover.apply(helix_ab_pose)\n",
    "add_pdb_info_mover.apply(helix_c_pose)\n",
    "# Here's the second part\n",
    "view = viewer.init(helix_c_pose, window_size=(800, 600), modules=modules).show()\n",
    "# Here's the first object\n",
    "view = viewer.init(helix_ab_pose, window_size=(800, 600), modules=modules).show()"
   ]
  },
  {
   "cell_type": "code",
   "execution_count": null,
   "metadata": {
    "ExecuteTime": {
     "end_time": "2020-05-04T01:42:34.150503Z",
     "start_time": "2020-05-04T01:42:33.884353Z"
    },
    "colab": {
     "base_uri": "https://localhost:8080/",
     "height": 617
    },
    "id": "6VmFsrT9ZhV4",
    "outputId": "e07469c4-e52e-4d03-d12f-7dc8daa134fd"
   },
   "outputs": [],
   "source": [
    "# Here's the second object\n",
    "view = viewer.init(helix_c_pose, window_size=(800, 600), modules=modules).show()"
   ]
  },
  {
   "cell_type": "markdown",
   "metadata": {
    "id": "plzT9YFOZhV4"
   },
   "source": [
    "### Connect two objects with arbitrary residues\n",
    "\n",
    "> Now that we have two pose objects with their own numbering, we can join them back together with any arbitrary sequence. We will make a function that takes in two pose objects and joins them by a sequence. It will not do anything kinematically to close the bond, but sets us up for GK."
   ]
  },
  {
   "cell_type": "code",
   "execution_count": null,
   "metadata": {
    "ExecuteTime": {
     "end_time": "2020-05-04T01:42:34.164445Z",
     "start_time": "2020-05-04T01:42:34.153679Z"
    },
    "colab": {
     "base_uri": "https://localhost:8080/"
    },
    "id": "sPVrB_R4ZhV4",
    "outputId": "a07acec0-a1ca-4a73-cf9d-23010ee6d35b"
   },
   "outputs": [],
   "source": [
    "def crudely_connect_w_loop(n_term_pose,c_term_pose,connect_with):\n",
    "    \"\"\"\n",
    "    The function will take two poses and join them with a loop\n",
    "\n",
    "    Keep in mind this is just joined as far as the pose is concerned. The bond angles and lenghts will be sub-optimal\n",
    "    \"\"\"\n",
    "    one_to_three = {\n",
    "    'A': 'ALA',\n",
    "    'C': 'CYS',\n",
    "    'D': 'ASP',\n",
    "    'E': 'GLU',\n",
    "    'F': 'PHE',\n",
    "    'G': 'GLY',\n",
    "    'H': 'HIS',\n",
    "    'I': 'ILE',\n",
    "    'K': 'LYS',\n",
    "    'L': 'LEU',\n",
    "    'M': 'MET',\n",
    "    'N': 'ASN',\n",
    "    'P': 'PRO',\n",
    "    'Q': 'GLN',\n",
    "    'R': 'ARG',\n",
    "    'S': 'SER',\n",
    "    'T': 'THR',\n",
    "    'V': 'VAL',\n",
    "    'Y': 'TYR',\n",
    "    'W': 'TRP'}\n",
    "\n",
    "    pose_a = Pose()\n",
    "    pose_a.assign(n_term_pose)\n",
    "\n",
    "    pose_b = Pose()\n",
    "    pose_b.assign(c_term_pose)\n",
    "\n",
    "\n",
    "    # Setup CHEMICAL MANAGER TO MAKE NEW RESIDUES\n",
    "    chm = pyrosetta.rosetta.core.chemical.ChemicalManager.get_instance()\n",
    "    rts = chm.residue_type_set('fa_standard')\n",
    "    get_residue_object = lambda x: pyrosetta.rosetta.core.conformation.ResidueFactory.create_residue(\n",
    "        rts.name_map(x))\n",
    "\n",
    "    # Will keep track of indexing of rebuilt loop\n",
    "    rebuilt_loop = []\n",
    "\n",
    "    '''Iterate through string turning each letter into a residue object and then\n",
    "    appending it to the N term pose'''\n",
    "    for one_letter in connect_with:\n",
    "        resi = get_residue_object(one_to_three[one_letter])\n",
    "        pose_a.append_residue_by_bond(resi, True)\n",
    "        pose_a.set_omega(pose_a.total_residue(), 180.)\n",
    "        rebuilt_loop.append(pose_a.total_residue())\n",
    "\n",
    "\n",
    "    ##ADD the C term pose to the end of the loop we just appended\n",
    "    for residue_index in range(1, pose_b.total_residue()+1):\n",
    "        pose_a.append_residue_by_bond(\n",
    "            pose_b.residue(residue_index))\n",
    "\n",
    "    print(\"Joined NTerm and CTerm pose with loop {} at residues {}\".format(connect_with,rebuilt_loop))\n",
    "    return pose_a\n",
    "\n",
    "#Returns a pose that is connected, but sub-optimal geometry\n",
    "gk_input_pose = crudely_connect_w_loop(helix_ab_pose,helix_c_pose,'AGAAA')"
   ]
  },
  {
   "cell_type": "markdown",
   "metadata": {
    "id": "MjguWC4SZhV5"
   },
   "source": [
    "## Step 2: Initial GeneralizedKIC setup\n",
    "We're now ready to add the GeneralizedKIC mover that will close the gap in the loop and sample loop conformations using PyRosetta. We first need to import the GenKic PyRosetta Class. Feel free to browse this library in the `additional scripts` directory. It wraps a lot of the manual complexity of setting up a GenKic mover into an object based Python class.\n",
    "\n",
    "The GenKic class constructor takes residue numbers to be considered in the GK mover. We add all the connecting loops from the previous step 29-33 plus two anchoring residues 28 and 34. H"
   ]
  },
  {
   "cell_type": "code",
   "execution_count": null,
   "metadata": {
    "ExecuteTime": {
     "end_time": "2020-05-04T01:42:36.218721Z",
     "start_time": "2020-05-04T01:42:34.166128Z"
    },
    "colab": {
     "base_uri": "https://localhost:8080/"
    },
    "id": "RtnwCzAiZhV5",
    "outputId": "f924a86c-fdc3-4e0d-f9a7-c5259d2ac79e"
   },
   "outputs": [],
   "source": [
    "from additional_scripts.GenKic import GenKic\n",
    "\n",
    "##All that GenKic needs is the loop residue list\n",
    "loop_residues = [28,29, 30, 31, 32, 33, 34]\n",
    "gk_object = GenKic(loop_residues)"
   ]
  },
  {
   "cell_type": "markdown",
   "metadata": {
    "id": "hAs9XHhkZhV5"
   },
   "source": [
    "## Step 3 Set GenKic parameters\n",
    "\n",
    "The user has many, many options to control loop sampling, filtering, and solution selection. Typically, the first option that one wants to set is the number of attempts that the mover will make to find a closed solution. The default is 100000, but can be specified with a class member function"
   ]
  },
  {
   "cell_type": "code",
   "execution_count": null,
   "metadata": {
    "ExecuteTime": {
     "end_time": "2020-05-04T01:42:36.221918Z",
     "start_time": "2020-05-04T01:42:36.220258Z"
    },
    "id": "OZxWtgOQZhV5"
   },
   "outputs": [],
   "source": [
    "##Let's set the closure attempt to 500000\n",
    "gk_object.set_closure_attempts(500000)"
   ]
  },
  {
   "cell_type": "markdown",
   "metadata": {
    "id": "iJDHVS3lZhV5"
   },
   "source": [
    "Each attempt could yield anywhere from 0 to 16 solutions. By default, every solution found will be stored until we've made the specified number of attempts (in our case 500000). This could be far too many solutions, though. It makes more sense to stop looking for solutions after we've found a small number. That number could be as low as 1 (i.e. GeneralizedKIC stops as soon as a solution is found), but for our purposes, let's set that number at 10. Once the KicMover has 10 closures that meet your criteria (defined below), then it will stop"
   ]
  },
  {
   "cell_type": "code",
   "execution_count": null,
   "metadata": {
    "ExecuteTime": {
     "end_time": "2020-05-04T01:42:36.225336Z",
     "start_time": "2020-05-04T01:42:36.223428Z"
    },
    "id": "NxbeYB5cZhV5"
   },
   "outputs": [],
   "source": [
    "gk_object.set_min_solutions(10)"
   ]
  },
  {
   "cell_type": "markdown",
   "metadata": {
    "id": "kNTEVnQRZhV5"
   },
   "source": [
    "Even if we had set this numer at 1, a single attempt might have yielded up to 16 solutions. We always need to tell GeneralizedKIC how to pick a single solution from among the solutions. Here, we'll choose our solution by energy -- but there is an important caveat. In this example, we are sampling backbone conformations, with no consideration of side-chains, we should use a scoring function that consists primarily of backbone-only terms to pick the best solution.. Let's set up a backbone-only scoring function using weights from the ref2015 scoring function."
   ]
  },
  {
   "cell_type": "code",
   "execution_count": null,
   "metadata": {
    "ExecuteTime": {
     "end_time": "2020-05-04T01:42:36.231717Z",
     "start_time": "2020-05-04T01:42:36.226760Z"
    },
    "id": "9OOIXf0MZhV5"
   },
   "outputs": [],
   "source": [
    "from pyrosetta import ScoreFunction\n",
    "\n",
    "def get_bb_only_sfxn():\n",
    "    scorefxn = ScoreFunction()\n",
    "    scorefxn.set_weight(pyrosetta.rosetta.core.scoring.fa_atr, 1)    # full-atom attractive score\n",
    "    scorefxn.set_weight(pyrosetta.rosetta.core.scoring.fa_rep, 0.55)    # full-atom repulsive score\n",
    "    scorefxn.set_weight(pyrosetta.rosetta.core.scoring.hbond_sr_bb, 1)    # short-range hbonding\n",
    "    scorefxn.set_weight(pyrosetta.rosetta.core.scoring.hbond_lr_bb, 1)    # long-range hbonding\n",
    "    scorefxn.set_weight(pyrosetta.rosetta.core.scoring.rama_prepro, 0.45)    # ramachandran score\n",
    "    scorefxn.set_weight(pyrosetta.rosetta.core.scoring.omega, 0.4)    # omega torsion score\n",
    "    scorefxn.set_weight(pyrosetta.rosetta.core.scoring.p_aa_pp, 0.625)\n",
    "    return scorefxn\n",
    "\n",
    "##Grab BB Only SFXN\n",
    "bb_only_sfxn = get_bb_only_sfxn()\n",
    "\n",
    "##Pass it to GK\n",
    "gk_object.set_scorefxn(bb_only_sfxn)"
   ]
  },
  {
   "cell_type": "markdown",
   "metadata": {
    "id": "RMsregxVZhV6"
   },
   "source": [
    "Let's tell GeneralizedKIC to use this scoring function to pick a solution by adding this selector. Once we have 10 solutions, it will return the lowest energy solution defined by our score function"
   ]
  },
  {
   "cell_type": "code",
   "execution_count": null,
   "metadata": {
    "ExecuteTime": {
     "end_time": "2020-05-04T01:42:36.235826Z",
     "start_time": "2020-05-04T01:42:36.233490Z"
    },
    "id": "yRIxlWgxZhV6"
   },
   "outputs": [],
   "source": [
    "gk_object.set_selector_type('lowest_energy_selector')"
   ]
  },
  {
   "cell_type": "markdown",
   "metadata": {
    "id": "KrQIN8_XZhV6"
   },
   "source": [
    "## Step 3:  Setting GeneralizedKIC perturbers\n",
    "Perturbers allow a user to alter degrees of freedom in the two segments between the pivots. They can:\n",
    "\n",
    "* Set a degree of freedom to a fixed value\n",
    "* Perturb a degree of freedom slighly from a starting value (i.e. add a small, random value to the value of the degree of freedom)\n",
    "* Fully randomize a degree of freedom\n",
    "* Draw a random value for a degree of freedom from a biased distribution (e.g. drawing mainchain torsion values from the Ramachandran distribution for the relevant amino acid type)\n",
    "\n",
    "\n",
    "Perturbers are applied in the order in which they are defined, and can override or modify the effect of previous perturbers. One could, for example, set a particular torsion value to 180, then allow small perturbations around that value, through successive application of a setting and a perturbing perturber.\n",
    "\n",
    "We want to use perturbers to do three things:\n",
    "\n",
    " - Set all mainchain omega values to 180 degrees.\n",
    "\n",
    " - Randomize phi and psi values for all amino acids in the loop, biased by each amino acid's Ramachandran map.\n",
    "\n",
    "- Set the bond length, bond angles, and torsion angle of the currently-broken bond between residues 33 and 34 to ideal values for a peptide bond.\n",
    "\n",
    "First lets set all omega angles to 180:"
   ]
  },
  {
   "cell_type": "code",
   "execution_count": null,
   "metadata": {
    "ExecuteTime": {
     "end_time": "2020-05-04T01:42:36.240965Z",
     "start_time": "2020-05-04T01:42:36.237706Z"
    },
    "id": "wFKIcNptZhV6"
   },
   "outputs": [],
   "source": [
    "#First lets set alll mainchain omega values to 180 degrees in our loop. We don't want to include residue after the last anchor residue as that could potentially not exist.\n",
    "for res_num in loop_residues[:-1]:\n",
    "    gk_object.set_dihedral(res_num, res_num + 1, \"C\", \"N\", 180.1)\n",
    "\n",
    "###Or there is a convienience function within the class that does the same thing\n",
    "gk_object.set_omega_angles()"
   ]
  },
  {
   "cell_type": "markdown",
   "metadata": {
    "ExecuteTime": {
     "end_time": "2020-05-04T01:27:38.453218Z",
     "start_time": "2020-05-04T01:27:38.448240Z"
    },
    "id": "i-iF9VkUZhV6"
   },
   "source": [
    "Next, let's randomize phi and psi values for all amino acids in the loop, biased by each amino acid's Ramachandran map. The `randomize_backbone_by_rama_prepro` perturber can be used for biased randomization of mainchain torsions of any residue that\n",
    "(a) has a Ramachandran map in the Rosetta database, and\n",
    "(b) has all of its mainchain torsions within the chain tmo be sampled by GeneralizedKIC. (That is, we cannot use it for, for example, a cysteine residue involved in a disulfide bond if we are closing through the disulfide bond.)"
   ]
  },
  {
   "cell_type": "code",
   "execution_count": null,
   "metadata": {
    "ExecuteTime": {
     "end_time": "2020-05-04T01:42:36.245438Z",
     "start_time": "2020-05-04T01:42:36.242845Z"
    },
    "id": "VOTeH2WAZhV6"
   },
   "outputs": [],
   "source": [
    "for res_num in loop_residues:\n",
    "    gk_object.randomize_backbone_by_rama_prepro(res_num)"
   ]
  },
  {
   "cell_type": "markdown",
   "metadata": {
    "id": "q7L8qz-hZhV6"
   },
   "source": [
    "Finally, we want to let GK know about the broken bond we set between our poses which exists between residue 33 and 34 (the anchor residue and the last residue in our loop definition). But just for fun, let's see what happens if you don't run it with the close bond tag."
   ]
  },
  {
   "cell_type": "code",
   "execution_count": null,
   "metadata": {
    "ExecuteTime": {
     "end_time": "2020-05-04T01:42:36.330482Z",
     "start_time": "2020-05-04T01:42:36.247799Z"
    },
    "colab": {
     "base_uri": "https://localhost:8080/"
    },
    "id": "TIRgX-t0ZhV7",
    "outputId": "305c1d81-fd48-4396-915b-6a71508388f5"
   },
   "outputs": [],
   "source": [
    "##This will grab the GK instance and apply everything we have set to our pose\n",
    "gk_object.get_instance().apply(gk_input_pose)"
   ]
  },
  {
   "cell_type": "code",
   "execution_count": null,
   "metadata": {
    "ExecuteTime": {
     "end_time": "2020-05-04T01:42:36.607944Z",
     "start_time": "2020-05-04T01:42:36.332547Z"
    },
    "colab": {
     "base_uri": "https://localhost:8080/",
     "height": 617
    },
    "id": "zX-d9KnNZhWF",
    "outputId": "69c23b0f-5660-496a-b1b4-5211784e89c5"
   },
   "outputs": [],
   "source": [
    "##You can see, we perturbed the loop, but we did not tell GK to close the bond\n",
    "view = viewer.init(gk_input_pose, window_size=(800, 600), modules=modules).show()"
   ]
  },
  {
   "cell_type": "markdown",
   "metadata": {
    "id": "sr0oy68_ZhWF"
   },
   "source": [
    "Now let's actually set the close bond"
   ]
  },
  {
   "cell_type": "code",
   "execution_count": null,
   "metadata": {
    "ExecuteTime": {
     "end_time": "2020-05-04T01:42:36.612889Z",
     "start_time": "2020-05-04T01:42:36.610081Z"
    },
    "id": "Sg4aDUEpZhWF"
   },
   "outputs": [],
   "source": [
    "gk_object.close_normal_bond(33,34) #or gk_object.close_normal_bond(loop_residues[-2],loop_residues[-1])"
   ]
  },
  {
   "cell_type": "markdown",
   "metadata": {
    "id": "-d81vRjsZhWF"
   },
   "source": [
    "## Step 4: Apply to pose\n",
    "\n",
    "Now that we have setup all perturbers and filters, GK knows exactly how to close this loop. We can grab the instance from the Python object, and apply it to our pose"
   ]
  },
  {
   "cell_type": "code",
   "execution_count": null,
   "metadata": {
    "ExecuteTime": {
     "end_time": "2020-05-04T01:42:36.701996Z",
     "start_time": "2020-05-04T01:42:36.615268Z"
    },
    "colab": {
     "base_uri": "https://localhost:8080/"
    },
    "id": "_I9NeAxGZhWG",
    "outputId": "2533a900-1884-4c94-840a-b7325e5baa44"
   },
   "outputs": [],
   "source": [
    "gk_object.get_instance().apply(gk_input_pose)"
   ]
  },
  {
   "cell_type": "code",
   "execution_count": null,
   "metadata": {
    "ExecuteTime": {
     "end_time": "2020-05-04T01:42:36.974212Z",
     "start_time": "2020-05-04T01:42:36.703961Z"
    },
    "colab": {
     "base_uri": "https://localhost:8080/",
     "height": 617
    },
    "id": "cj5uztrlZhWG",
    "outputId": "3135e330-dbf5-4d6f-fc5e-47cbdf62406e"
   },
   "outputs": [],
   "source": [
    "\n",
    "view = viewer.init(gk_input_pose, window_size=(800, 600), modules=modules).show()"
   ]
  },
  {
   "cell_type": "markdown",
   "metadata": {
    "id": "cUfV3su-ZhWG"
   },
   "source": [
    "You can see that GK has succefully closed our loop"
   ]
  },
  {
   "cell_type": "markdown",
   "metadata": {
    "id": "OAkGqYAXZhWG"
   },
   "source": [
    "## Step 5: Filtering solutions to discard bad geometry\n",
    "There are a number of possible problems with the solutions produced. First, although the residues within each segment are being sampled in a biased manner based on their respective Ramachandran maps, the pivot residues have values assigned to them by the solver, which may put them in awkward regions of Ramachandran space. We want to filter out solutions with poor pivot Ramachandran energies.\n",
    "\n",
    "Second, we don't want loop solutions with clashing geometry, so we want some sort of bump check to be applied before accepting a solution.\n",
    "\n",
    "And third, we may want to impose some prior knowledge insofar as we expect the first and last residues of the loop, which are coming off of helices, to be in the alpha-helical bin (\"A\") of Ramachandran space.\n",
    "\n",
    "GeneralizedKIC filters are applied rapidly to all solutions produced by the KIC solver before the solutions are used to build computationally-expensive Pose geometry. They are therefore a good way to cheaply and efficiently discard bad solutions. Note that, unlike Rosetta's filters, the GeneralizedKIC filters operate on a set of loop degree-of-freedom values, not on a full Pose.\n",
    "\n",
    ">Let us first require that solutions have residues 28 ad 34 in the alpha-helical region of Ramachandran space. For this, we use a backbone_bin GeneralizedKIC filter: The \"ABBA\" bin parameters file, located in the Rosetta database, defines Ramachandran bins for the alpha-helical region (\"A\"), the beta-sheet region (\"B\"), and the mirror-image regions that can be accessed by D-amino acids (\"Aprime\" and \"Bprime\", respectively)."
   ]
  },
  {
   "cell_type": "code",
   "execution_count": null,
   "metadata": {
    "ExecuteTime": {
     "end_time": "2020-05-04T01:42:37.326881Z",
     "start_time": "2020-05-04T01:42:36.976320Z"
    },
    "colab": {
     "base_uri": "https://localhost:8080/"
    },
    "id": "wPzKjBTBZhWG",
    "outputId": "826d2986-e4aa-4219-d12e-9575d314f6c2"
   },
   "outputs": [],
   "source": [
    "##The first residue in our loop definition will be confiend to alpha-helical rama space\n",
    "gk_object.set_filter_backbone_bin(loop_residues[0],'A',bin='ABBA')\n",
    "\n",
    "##The last residue in our loop definition will be confiend to alpha-helical rama space\n",
    "gk_object.set_filter_backbone_bin(loop_residues[-1],'A',bin='ABBA')"
   ]
  },
  {
   "cell_type": "markdown",
   "metadata": {
    "id": "wtue-Q3sZhWH"
   },
   "source": [
    "### Loop bump check\n",
    "Next we'll add a simple bump check filter (loop_bump_check) to discard solutions with clashing mainchain geometry. Note that this does not check sidechain geometry; it only operates on the heavyatoms of the loop to be closed"
   ]
  },
  {
   "cell_type": "code",
   "execution_count": null,
   "metadata": {
    "ExecuteTime": {
     "end_time": "2020-05-04T01:42:37.331583Z",
     "start_time": "2020-05-04T01:42:37.329026Z"
    },
    "id": "3QdFipcOZhWH"
   },
   "outputs": [],
   "source": [
    "gk_object.set_filter_loop_bump_check()"
   ]
  },
  {
   "cell_type": "markdown",
   "metadata": {
    "ExecuteTime": {
     "end_time": "2020-05-04T01:36:21.585570Z",
     "start_time": "2020-05-04T01:36:21.581854Z"
    },
    "id": "PtFQNxR7ZhWH"
   },
   "source": [
    "### Set rama prepro\n",
    "And finally, we'll add a rama_prepro_check filter to discard solutions in which pivot atoms are in energetically-unfavourable regions of Ramachandran space, i.e their rama energy term is high:"
   ]
  },
  {
   "cell_type": "code",
   "execution_count": null,
   "metadata": {
    "ExecuteTime": {
     "end_time": "2020-05-04T01:42:37.336926Z",
     "start_time": "2020-05-04T01:42:37.333929Z"
    },
    "id": "k1PwkC4UZhWH"
   },
   "outputs": [],
   "source": [
    "for r in gk_object.pivot_residues:\n",
    "    gk_object.set_filter_rama_prepro(r,cutoff=0.5)"
   ]
  },
  {
   "cell_type": "markdown",
   "metadata": {
    "id": "dOFI8547ZhWH"
   },
   "source": [
    "## Step 6 Apply Perturbers and Filters and run GK"
   ]
  },
  {
   "cell_type": "code",
   "execution_count": null,
   "metadata": {
    "ExecuteTime": {
     "start_time": "2020-05-04T01:42:26.047Z"
    },
    "colab": {
     "base_uri": "https://localhost:8080/"
    },
    "id": "DUkquIMIZhWH",
    "outputId": "91e9a48d-1fed-4be2-c49a-257bef520cd7"
   },
   "outputs": [],
   "source": [
    "##Grab GK instance\n",
    "gk_instance = gk_object.get_instance()\n",
    "\n",
    "##apply it to the pose\n",
    "gk_instance.apply(gk_input_pose)"
   ]
  },
  {
   "cell_type": "markdown",
   "metadata": {
    "ExecuteTime": {
     "end_time": "2020-05-04T01:38:24.763595Z",
     "start_time": "2020-05-04T01:38:24.761596Z"
    },
    "id": "VCqhex2nZhWI"
   },
   "source": [
    "Notice that with filters applied, it takes many more attempts to get a succesful closure that meets our criteria of a \"good\" loop. We can up the sampling by setting min solutions from 10 to  a higher number."
   ]
  },
  {
   "cell_type": "code",
   "execution_count": null,
   "metadata": {
    "ExecuteTime": {
     "start_time": "2020-05-04T01:42:26.049Z"
    },
    "colab": {
     "base_uri": "https://localhost:8080/",
     "height": 866,
     "referenced_widgets": [
      "d078f9b1452c40708781a68d62c9b00e",
      "fe76057a82a74673bf453b8ce48f7dc2",
      "77501513b92a4573b5be0543a587114c",
      "8be83f26883d425dad6acf3969072710",
      "492db392357342408cc1711ca5c7b3b4",
      "be7eaf0f660a4a03825b6e0c07b19637",
      "5bdc80fc1ba142b0a08d65bde9344023"
     ]
    },
    "id": "fqWWRPdiZhWI",
    "outputId": "099fe078-d2e9-457c-b162-1c66f0a5214b"
   },
   "outputs": [],
   "source": [
    "##The Input pose with no loop, the reference pose we are trying to recreate and the GK pose\n",
    "poses = [input_pose_no_loop, input_pose, gk_input_pose]\n",
    "view = viewer.init(poses) + viewer.setStyle()\n",
    "view()\n"
   ]
  },
  {
   "cell_type": "markdown",
   "metadata": {
    "id": "icSu22OZZhWI"
   },
   "source": [
    "**Chapter contributors:**\n",
    "- Jordan Willis (RubrYc Therapeutics)"
   ]
  },
  {
   "cell_type": "code",
   "execution_count": null,
   "metadata": {
    "id": "q62sIPeCZhWI"
   },
   "outputs": [],
   "source": []
  },
  {
   "cell_type": "markdown",
   "metadata": {
    "id": "PPbq1sWbZhWI"
   },
   "source": [
    "<!--NAVIGATION-->\n",
    "< [Loop Modeling](http://nbviewer.jupyter.org/github/RosettaCommons/PyRosetta.notebooks/blob/master/notebooks/09.00-Loop-Modeling.ipynb) | [Contents](toc.ipynb) | [Index](index.ipynb) | [Working With Symmetry](http://nbviewer.jupyter.org/github/RosettaCommons/PyRosetta.notebooks/blob/master/notebooks/10.00-Working-With-Symmetry.ipynb) ><p><a href=\"https://colab.research.google.com/github/RosettaCommons/PyRosetta.notebooks/blob/master/notebooks/09.01-Using-Gen-KIC.ipynb\"><img align=\"left\" src=\"https://colab.research.google.com/assets/colab-badge.svg\" alt=\"Open in Colab\" title=\"Open in Google Colaboratory\"></a>"
   ]
  }
 ],
 "metadata": {
  "colab": {
   "provenance": []
  },
  "kernelspec": {
   "display_name": "Python 3",
   "language": "python",
   "name": "python3"
  },
  "language_info": {
   "codemirror_mode": {
    "name": "ipython",
    "version": 3
   },
   "file_extension": ".py",
   "mimetype": "text/x-python",
   "name": "python",
   "nbconvert_exporter": "python",
   "pygments_lexer": "ipython3",
   "version": "3.8.5"
  },
  "toc": {
   "base_numbering": 1,
   "nav_menu": {},
   "number_sections": true,
   "sideBar": true,
   "skip_h1_title": false,
   "title_cell": "Table of Contents",
   "title_sidebar": "Contents",
   "toc_cell": false,
   "toc_position": {
    "height": "calc(100% - 180px)",
    "left": "10px",
    "top": "150px",
    "width": "186.391px"
   },
   "toc_section_display": true,
   "toc_window_display": true
  },
  "widgets": {
   "application/vnd.jupyter.widget-state+json": {
    "492db392357342408cc1711ca5c7b3b4": {
     "model_module": "@jupyter-widgets/base",
     "model_module_version": "1.2.0",
     "model_name": "LayoutModel",
     "state": {
      "_model_module": "@jupyter-widgets/base",
      "_model_module_version": "1.2.0",
      "_model_name": "LayoutModel",
      "_view_count": null,
      "_view_module": "@jupyter-widgets/base",
      "_view_module_version": "1.2.0",
      "_view_name": "LayoutView",
      "align_content": null,
      "align_items": null,
      "align_self": null,
      "border": null,
      "bottom": null,
      "display": null,
      "flex": null,
      "flex_flow": null,
      "grid_area": null,
      "grid_auto_columns": null,
      "grid_auto_flow": null,
      "grid_auto_rows": null,
      "grid_column": null,
      "grid_gap": null,
      "grid_row": null,
      "grid_template_areas": null,
      "grid_template_columns": null,
      "grid_template_rows": null,
      "height": null,
      "justify_content": null,
      "justify_items": null,
      "left": null,
      "margin": null,
      "max_height": null,
      "max_width": null,
      "min_height": null,
      "min_width": null,
      "object_fit": null,
      "object_position": null,
      "order": null,
      "overflow": null,
      "overflow_x": null,
      "overflow_y": null,
      "padding": null,
      "right": null,
      "top": null,
      "visibility": null,
      "width": null
     }
    },
    "5bdc80fc1ba142b0a08d65bde9344023": {
     "model_module": "@jupyter-widgets/base",
     "model_module_version": "1.2.0",
     "model_name": "LayoutModel",
     "state": {
      "_model_module": "@jupyter-widgets/base",
      "_model_module_version": "1.2.0",
      "_model_name": "LayoutModel",
      "_view_count": null,
      "_view_module": "@jupyter-widgets/base",
      "_view_module_version": "1.2.0",
      "_view_name": "LayoutView",
      "align_content": null,
      "align_items": null,
      "align_self": null,
      "border": null,
      "bottom": null,
      "display": null,
      "flex": null,
      "flex_flow": null,
      "grid_area": null,
      "grid_auto_columns": null,
      "grid_auto_flow": null,
      "grid_auto_rows": null,
      "grid_column": null,
      "grid_gap": null,
      "grid_row": null,
      "grid_template_areas": null,
      "grid_template_columns": null,
      "grid_template_rows": null,
      "height": null,
      "justify_content": null,
      "justify_items": null,
      "left": null,
      "margin": null,
      "max_height": null,
      "max_width": null,
      "min_height": null,
      "min_width": null,
      "object_fit": null,
      "object_position": null,
      "order": null,
      "overflow": null,
      "overflow_x": null,
      "overflow_y": null,
      "padding": null,
      "right": null,
      "top": null,
      "visibility": null,
      "width": null
     }
    },
    "77501513b92a4573b5be0543a587114c": {
     "model_module": "@jupyter-widgets/output",
     "model_module_version": "1.0.0",
     "model_name": "OutputModel",
     "state": {
      "_dom_classes": [],
      "_model_module": "@jupyter-widgets/output",
      "_model_module_version": "1.0.0",
      "_model_name": "OutputModel",
      "_view_count": null,
      "_view_module": "@jupyter-widgets/output",
      "_view_module_version": "1.0.0",
      "_view_name": "OutputView",
      "layout": "IPY_MODEL_5bdc80fc1ba142b0a08d65bde9344023",
      "msg_id": "",
      "outputs": [
       {
        "data": {
         "application/3dmoljs_load.v0": "<div id=\"3dmolviewer_17031930066241446\"  style=\"position: relative; width: 1200px; height: 800px;\">\n        <p id=\"3dmolwarning_17031930066241446\" style=\"background-color:#ffcccc;color:black\">You appear to be running in JupyterLab (or JavaScript failed to load for some other reason).  You need to install the 3dmol extension: <br>\n        <tt>jupyter labextension install jupyterlab_3dmol</tt></p>\n        </div>\n<script>\n\nvar loadScriptAsync = function(uri){\n  return new Promise((resolve, reject) => {\n    //this is to ignore the existence of requirejs amd\n    var savedexports, savedmodule;\n    if (typeof exports !== 'undefined') savedexports = exports;\n    else exports = {}\n    if (typeof module !== 'undefined') savedmodule = module;\n    else module = {}\n\n    var tag = document.createElement('script');\n    tag.src = uri;\n    tag.async = true;\n    tag.onload = () => {\n        exports = savedexports;\n        module = savedmodule;\n        resolve();\n    };\n  var firstScriptTag = document.getElementsByTagName('script')[0];\n  firstScriptTag.parentNode.insertBefore(tag, firstScriptTag);\n});\n};\n\nif(typeof $3Dmolpromise === 'undefined') {\n$3Dmolpromise = null;\n  $3Dmolpromise = loadScriptAsync('https://cdnjs.cloudflare.com/ajax/libs/3Dmol/2.0.4/3Dmol-min.js');\n}\n\nvar viewer_17031930066241446 = null;\nvar warn = document.getElementById(\"3dmolwarning_17031930066241446\");\nif(warn) {\n    warn.parentNode.removeChild(warn);\n}\n$3Dmolpromise.then(function() {\nviewer_17031930066241446 = $3Dmol.createViewer(document.getElementById(\"3dmolviewer_17031930066241446\"),{backgroundColor:\"white\"});\nviewer_17031930066241446.zoomTo();\n\tviewer_17031930066241446.addModels(\"HEADER                                            21-DEC-23   XXXX              \\nEXPDTA    THEORETICAL MODEL                                                     \\nREMARK 220                                                                      \\nREMARK 220 EXPERIMENTAL DETAILS                                                 \\nREMARK 220  EXPERIMENT TYPE                : THEORETICAL MODELLING              \\nREMARK 220  DATE OF DATA COLLECTION        : 21-DEC-23                          \\nREMARK 220                                                                      \\nREMARK 220 REMARK: MODEL GENERATED BY ROSETTA                                   \\nREMARK 220  VERSION 2023.49+release.9891f2c59fb                                 \\nATOM      1  N   GLY A   1      -5.069   6.358  13.089  1.00  0.00           N  \\nATOM      2  CA  GLY A   1      -5.896   6.272  11.856  1.00  0.00           C  \\nATOM      3  C   GLY A   1      -5.657   4.913  11.159  1.00  0.00           C  \\nATOM      4  O   GLY A   1      -4.525   4.436  11.079  1.00  0.00           O  \\nATOM      5 1H   GLY A   1      -5.227   7.238  13.536  1.00  0.00           H  \\nATOM      6 2H   GLY A   1      -5.321   5.618  13.712  1.00  0.00           H  \\nATOM      7 3H   GLY A   1      -4.102   6.276  12.849  1.00  0.00           H  \\nATOM      8 1HA  GLY A   1      -6.949   6.387  12.115  1.00  0.00           H  \\nATOM      9 2HA  GLY A   1      -5.639   7.093  11.187  1.00  0.00           H  \\nATOM     10  N   GLY A   2      -6.742   4.238  10.624  1.00  0.00           N  \\nATOM     11  CA  GLY A   2      -6.697   2.809  10.180  1.00  0.00           C  \\nATOM     12  C   GLY A   2      -5.510   2.467   9.257  1.00  0.00           C  \\nATOM     13  O   GLY A   2      -4.649   1.661   9.610  1.00  0.00           O  \\nATOM     14  H   GLY A   2      -7.606   4.754  10.535  1.00  0.00           H  \\nATOM     15 1HA  GLY A   2      -6.644   2.158  11.053  1.00  0.00           H  \\nATOM     16 2HA  GLY A   2      -7.617   2.563   9.651  1.00  0.00           H  \\nATOM     17  N   GLY A   3      -5.479   3.091   8.075  1.00  0.00           N  \\nATOM     18  CA  GLY A   3      -4.433   2.860   7.077  1.00  0.00           C  \\nATOM     19  C   GLY A   3      -4.185   4.146   6.276  1.00  0.00           C  \\nATOM     20  O   GLY A   3      -3.733   4.099   5.132  1.00  0.00           O  \\nATOM     21  H   GLY A   3      -6.216   3.750   7.871  1.00  0.00           H  \\nATOM     22 1HA  GLY A   3      -3.518   2.540   7.576  1.00  0.00           H  \\nATOM     23 2HA  GLY A   3      -4.736   2.051   6.413  1.00  0.00           H  \\nATOM     24  N   GLY A   4      -4.485   5.309   6.886  1.00  0.00           N  \\nATOM     25  CA  GLY A   4      -4.443   6.607   6.186  1.00  0.00           C  \\nATOM     26  C   GLY A   4      -3.022   6.969   5.739  1.00  0.00           C  \\nATOM     27  O   GLY A   4      -2.797   7.327   4.583  1.00  0.00           O  \\nATOM     28  H   GLY A   4      -4.748   5.284   7.861  1.00  0.00           H  \\nATOM     29 1HA  GLY A   4      -5.098   6.572   5.315  1.00  0.00           H  \\nATOM     30 2HA  GLY A   4      -4.824   7.387   6.844  1.00  0.00           H  \\nATOM     31  N   GLY A   5      -2.055   6.876   6.661  1.00  0.00           N  \\nATOM     32  CA  GLY A   5      -0.641   7.197   6.380  1.00  0.00           C  \\nATOM     33  C   GLY A   5      -0.109   6.319   5.227  1.00  0.00           C  \\nATOM     34  O   GLY A   5       0.531   6.816   4.300  1.00  0.00           O  \\nATOM     35  H   GLY A   5      -2.315   6.571   7.588  1.00  0.00           H  \\nATOM     36 1HA  GLY A   5      -0.552   8.252   6.120  1.00  0.00           H  \\nATOM     37 2HA  GLY A   5      -0.046   7.037   7.278  1.00  0.00           H  \\nATOM     38  N   GLY A   6      -0.392   5.007   5.313  1.00  0.00           N  \\nATOM     39  CA  GLY A   6       0.087   3.994   4.348  1.00  0.00           C  \\nATOM     40  C   GLY A   6      -0.521   4.245   2.947  1.00  0.00           C  \\nATOM     41  O   GLY A   6       0.201   4.340   1.954  1.00  0.00           O  \\nATOM     42  H   GLY A   6      -0.967   4.713   6.089  1.00  0.00           H  \\nATOM     43 1HA  GLY A   6       1.175   4.029   4.294  1.00  0.00           H  \\nATOM     44 2HA  GLY A   6      -0.185   3.000   4.700  1.00  0.00           H  \\nATOM     45  N   GLY A   7      -1.856   4.346   2.912  1.00  0.00           N  \\nATOM     46  CA  GLY A   7      -2.660   4.422   1.678  1.00  0.00           C  \\nATOM     47  C   GLY A   7      -2.471   5.772   0.956  1.00  0.00           C  \\nATOM     48  O   GLY A   7      -2.529   5.844  -0.272  1.00  0.00           O  \\nATOM     49  H   GLY A   7      -2.324   4.370   3.807  1.00  0.00           H  \\nATOM     50 1HA  GLY A   7      -2.377   3.610   1.008  1.00  0.00           H  \\nATOM     51 2HA  GLY A   7      -3.713   4.285   1.921  1.00  0.00           H  \\nATOM     52  N   GLY A   8      -2.244   6.844   1.730  1.00  0.00           N  \\nATOM     53  CA  GLY A   8      -1.917   8.167   1.165  1.00  0.00           C  \\nATOM     54  C   GLY A   8      -0.493   8.190   0.589  1.00  0.00           C  \\nATOM     55  O   GLY A   8      -0.194   8.961  -0.323  1.00  0.00           O  \\nATOM     56  H   GLY A   8      -2.300   6.737   2.733  1.00  0.00           H  \\nATOM     57 1HA  GLY A   8      -2.634   8.416   0.382  1.00  0.00           H  \\nATOM     58 2HA  GLY A   8      -2.012   8.927   1.940  1.00  0.00           H  \\nATOM     59  N   GLY A   9       0.407   7.335   1.123  1.00  0.00           N  \\nATOM     60  CA  GLY A   9       1.772   7.168   0.579  1.00  0.00           C  \\nATOM     61  C   GLY A   9       1.752   6.362  -0.726  1.00  0.00           C  \\nATOM     62  O   GLY A   9       2.604   6.547  -1.595  1.00  0.00           O  \\nATOM     63  H   GLY A   9       0.128   6.791   1.927  1.00  0.00           H  \\nATOM     64 1HA  GLY A   9       2.215   8.148   0.400  1.00  0.00           H  \\nATOM     65 2HA  GLY A   9       2.397   6.663   1.314  1.00  0.00           H  \\nATOM     66  N   GLY A  10       0.772   5.448  -0.886  1.00  0.00           N  \\nATOM     67  CA  GLY A  10       0.564   4.723  -2.172  1.00  0.00           C  \\nATOM     68  C   GLY A  10       0.260   5.745  -3.293  1.00  0.00           C  \\nATOM     69  O   GLY A  10       0.689   5.575  -4.434  1.00  0.00           O  \\nATOM     70  H   GLY A  10       0.161   5.251  -0.106  1.00  0.00           H  \\nATOM     71 1HA  GLY A  10       1.456   4.143  -2.411  1.00  0.00           H  \\nATOM     72 2HA  GLY A  10      -0.258   4.017  -2.062  1.00  0.00           H  \\nATOM     73  N   GLY A  11      -0.490   6.789  -2.895  1.00  0.00           N  \\nATOM     74  CA  GLY A  11      -0.881   7.904  -3.762  1.00  0.00           C  \\nATOM     75  C   GLY A  11       0.295   8.887  -3.981  1.00  0.00           C  \\nATOM     76  O   GLY A  11       0.542   9.335  -5.101  1.00  0.00           O  \\nATOM     77  H   GLY A  11      -0.793   6.785  -1.932  1.00  0.00           H  \\nATOM     78 1HA  GLY A  11      -1.218   7.516  -4.724  1.00  0.00           H  \\nATOM     79 2HA  GLY A  11      -1.722   8.433  -3.316  1.00  0.00           H  \\nATOM     80  N   GLY A  12       1.011   9.210  -2.886  1.00  0.00           N  \\nATOM     81  CA  GLY A  12       2.072  10.247  -2.865  1.00  0.00           C  \\nATOM     82  C   GLY A  12       3.318   9.753  -3.635  1.00  0.00           C  \\nATOM     83  O   GLY A  12       3.937  10.509  -4.384  1.00  0.00           O  \\nATOM     84  H   GLY A  12       0.799   8.706  -2.037  1.00  0.00           H  \\nATOM     85 1HA  GLY A  12       1.692  11.165  -3.313  1.00  0.00           H  \\nATOM     86 2HA  GLY A  12       2.334  10.478  -1.833  1.00  0.00           H  \\nATOM     87  N   GLY A  13       3.665   8.470  -3.431  1.00  0.00           N  \\nATOM     88  CA  GLY A  13       4.810   7.820  -4.101  1.00  0.00           C  \\nATOM     89  C   GLY A  13       4.494   7.517  -5.572  1.00  0.00           C  \\nATOM     90  O   GLY A  13       5.397   7.292  -6.377  1.00  0.00           O  \\nATOM     91  H   GLY A  13       3.105   7.934  -2.783  1.00  0.00           H  \\nATOM     92 1HA  GLY A  13       5.684   8.469  -4.039  1.00  0.00           H  \\nATOM     93 2HA  GLY A  13       5.059   6.896  -3.581  1.00  0.00           H  \\nATOM     94  N   GLY A  14       3.190   7.515  -5.912  1.00  0.00           N  \\nATOM     95  CA  GLY A  14       2.732   7.423  -7.297  1.00  0.00           C  \\nATOM     96  C   GLY A  14       3.096   6.112  -7.977  1.00  0.00           C  \\nATOM     97  O   GLY A  14       3.710   6.105  -9.044  1.00  0.00           O  \\nATOM     98  H   GLY A  14       2.507   7.580  -5.171  1.00  0.00           H  \\nATOM     99 1HA  GLY A  14       1.648   7.538  -7.330  1.00  0.00           H  \\nATOM    100 2HA  GLY A  14       3.160   8.240  -7.876  1.00  0.00           H  \\nATOM    101  N   GLY A  15       2.703   4.994  -7.334  1.00  0.00           N  \\nATOM    102  CA  GLY A  15       2.867   3.641  -7.868  1.00  0.00           C  \\nATOM    103  C   GLY A  15       1.749   3.353  -8.892  1.00  0.00           C  \\nATOM    104  O   GLY A  15       0.964   4.238  -9.234  1.00  0.00           O  \\nATOM    105  H   GLY A  15       2.271   5.117  -6.429  1.00  0.00           H  \\nATOM    106 1HA  GLY A  15       3.848   3.551  -8.335  1.00  0.00           H  \\nATOM    107 2HA  GLY A  15       2.833   2.921  -7.051  1.00  0.00           H  \\nATOM    108  N   GLY A  16       1.680   2.103  -9.382  1.00  0.00           N  \\nATOM    109  CA  GLY A  16       0.595   1.676 -10.278  1.00  0.00           C  \\nATOM    110  C   GLY A  16      -0.769   1.764  -9.560  1.00  0.00           C  \\nATOM    111  O   GLY A  16      -0.842   1.684  -8.334  1.00  0.00           O  \\nATOM    112  H   GLY A  16       2.396   1.439  -9.125  1.00  0.00           H  \\nATOM    113 1HA  GLY A  16       0.589   2.305 -11.168  1.00  0.00           H  \\nATOM    114 2HA  GLY A  16       0.777   0.654 -10.608  1.00  0.00           H  \\nATOM    115  N   GLY A  17      -1.843   1.929 -10.343  1.00  0.00           N  \\nATOM    116  CA  GLY A  17      -3.231   1.948  -9.842  1.00  0.00           C  \\nATOM    117  C   GLY A  17      -3.556   0.601  -9.185  1.00  0.00           C  \\nATOM    118  O   GLY A  17      -4.118   0.553  -8.091  1.00  0.00           O  \\nATOM    119  H   GLY A  17      -1.675   2.046 -11.332  1.00  0.00           H  \\nATOM    120 1HA  GLY A  17      -3.348   2.762  -9.126  1.00  0.00           H  \\nATOM    121 2HA  GLY A  17      -3.913   2.146 -10.668  1.00  0.00           H  \\nATOM    122  N   GLY A  18      -3.178  -0.484  -9.899  1.00  0.00           N  \\nATOM    123  CA  GLY A  18      -3.273  -1.865  -9.412  1.00  0.00           C  \\nATOM    124  C   GLY A  18      -2.447  -2.055  -8.131  1.00  0.00           C  \\nATOM    125  O   GLY A  18      -2.837  -2.803  -7.234  1.00  0.00           O  \\nATOM    126  H   GLY A  18      -2.810  -0.313 -10.824  1.00  0.00           H  \\nATOM    127 1HA  GLY A  18      -4.317  -2.112  -9.218  1.00  0.00           H  \\nATOM    128 2HA  GLY A  18      -2.920  -2.548 -10.184  1.00  0.00           H  \\nATOM    129  N   GLY A  19      -1.278  -1.364  -8.039  1.00  0.00           N  \\nATOM    130  CA  GLY A  19      -0.395  -1.479  -6.872  1.00  0.00           C  \\nATOM    131  C   GLY A  19      -1.137  -1.004  -5.626  1.00  0.00           C  \\nATOM    132  O   GLY A  19      -1.176  -1.701  -4.612  1.00  0.00           O  \\nATOM    133  H   GLY A  19      -1.012  -0.754  -8.799  1.00  0.00           H  \\nATOM    134 1HA  GLY A  19      -0.076  -2.515  -6.758  1.00  0.00           H  \\nATOM    135 2HA  GLY A  19       0.502  -0.883  -7.035  1.00  0.00           H  \\nATOM    136  N   GLY A  20      -1.734   0.212  -5.718  1.00  0.00           N  \\nATOM    137  CA  GLY A  20      -2.487   0.823  -4.607  1.00  0.00           C  \\nATOM    138  C   GLY A  20      -3.632  -0.113  -4.185  1.00  0.00           C  \\nATOM    139  O   GLY A  20      -3.779  -0.438  -3.007  1.00  0.00           O  \\nATOM    140  H   GLY A  20      -1.653   0.713  -6.591  1.00  0.00           H  \\nATOM    141 1HA  GLY A  20      -1.814   1.007  -3.769  1.00  0.00           H  \\nATOM    142 2HA  GLY A  20      -2.879   1.789  -4.922  1.00  0.00           H  \\nATOM    143  N   GLY A  21      -4.428  -0.526  -5.199  1.00  0.00           N  \\nATOM    144  CA  GLY A  21      -5.637  -1.354  -5.021  1.00  0.00           C  \\nATOM    145  C   GLY A  21      -5.322  -2.700  -4.332  1.00  0.00           C  \\nATOM    146  O   GLY A  21      -6.159  -3.255  -3.620  1.00  0.00           O  \\nATOM    147  H   GLY A  21      -4.161  -0.239  -6.130  1.00  0.00           H  \\nATOM    148 1HA  GLY A  21      -6.368  -0.807  -4.425  1.00  0.00           H  \\nATOM    149 2HA  GLY A  21      -6.093  -1.545  -5.992  1.00  0.00           H  \\nATOM    150  N   GLY A  22      -4.100  -3.214  -4.557  1.00  0.00           N  \\nATOM    151  CA  GLY A  22      -3.584  -4.424  -3.879  1.00  0.00           C  \\nATOM    152  C   GLY A  22      -3.314  -4.134  -2.389  1.00  0.00           C  \\nATOM    153  O   GLY A  22      -3.766  -4.870  -1.512  1.00  0.00           O  \\nATOM    154  H   GLY A  22      -3.514  -2.738  -5.228  1.00  0.00           H  \\nATOM    155 1HA  GLY A  22      -4.308  -5.233  -3.978  1.00  0.00           H  \\nATOM    156 2HA  GLY A  22      -2.668  -4.752  -4.368  1.00  0.00           H  \\nATOM    157  N   GLY A  23      -2.573  -3.052  -2.161  1.00  0.00           N  \\nATOM    158  CA  GLY A  23      -1.901  -2.751  -0.893  1.00  0.00           C  \\nATOM    159  C   GLY A  23      -2.861  -2.250   0.188  1.00  0.00           C  \\nATOM    160  O   GLY A  23      -2.825  -2.715   1.327  1.00  0.00           O  \\nATOM    161  H   GLY A  23      -2.481  -2.406  -2.932  1.00  0.00           H  \\nATOM    162 1HA  GLY A  23      -1.397  -3.646  -0.527  1.00  0.00           H  \\nATOM    163 2HA  GLY A  23      -1.134  -1.995  -1.058  1.00  0.00           H  \\nATOM    164  N   GLY A  24      -3.728  -1.290  -0.178  1.00  0.00           N  \\nATOM    165  CA  GLY A  24      -4.732  -0.728   0.742  1.00  0.00           C  \\nATOM    166  C   GLY A  24      -5.761  -1.803   1.138  1.00  0.00           C  \\nATOM    167  O   GLY A  24      -6.297  -1.785   2.246  1.00  0.00           O  \\nATOM    168  H   GLY A  24      -3.682  -0.945  -1.126  1.00  0.00           H  \\nATOM    169 1HA  GLY A  24      -4.234  -0.341   1.631  1.00  0.00           H  \\nATOM    170 2HA  GLY A  24      -5.234   0.112   0.263  1.00  0.00           H  \\nATOM    171  N   GLY A  25      -6.026  -2.742   0.206  1.00  0.00           N  \\nATOM    172  CA  GLY A  25      -6.928  -3.893   0.416  1.00  0.00           C  \\nATOM    173  C   GLY A  25      -6.349  -4.821   1.502  1.00  0.00           C  \\nATOM    174  O   GLY A  25      -7.052  -5.221   2.430  1.00  0.00           O  \\nATOM    175  H   GLY A  25      -5.568  -2.633  -0.687  1.00  0.00           H  \\nATOM    176 1HA  GLY A  25      -7.914  -3.534   0.710  1.00  0.00           H  \\nATOM    177 2HA  GLY A  25      -7.050  -4.435  -0.521  1.00  0.00           H  \\nATOM    178  N   GLY A  26      -5.050  -5.147   1.355  1.00  0.00           N  \\nATOM    179  CA  GLY A  26      -4.309  -5.992   2.313  1.00  0.00           C  \\nATOM    180  C   GLY A  26      -4.125  -5.284   3.660  1.00  0.00           C  \\nATOM    181  O   GLY A  26      -4.058  -5.928   4.707  1.00  0.00           O  \\nATOM    182  H   GLY A  26      -4.570  -4.788   0.542  1.00  0.00           H  \\nATOM    183 1HA  GLY A  26      -4.846  -6.929   2.463  1.00  0.00           H  \\nATOM    184 2HA  GLY A  26      -3.334  -6.244   1.897  1.00  0.00           H  \\nATOM    185  N   GLY A  27      -4.044  -3.952   3.621  1.00  0.00           N  \\nATOM    186  CA  GLY A  27      -3.829  -3.120   4.815  1.00  0.00           C  \\nATOM    187  C   GLY A  27      -5.080  -3.069   5.716  1.00  0.00           C  \\nATOM    188  O   GLY A  27      -4.976  -2.891   6.930  1.00  0.00           O  \\nATOM    189  H   GLY A  27      -4.137  -3.505   2.720  1.00  0.00           H  \\nATOM    190 1HA  GLY A  27      -2.989  -3.514   5.387  1.00  0.00           H  \\nATOM    191 2HA  GLY A  27      -3.563  -2.108   4.510  1.00  0.00           H  \\nATOM    192  N   ALA A  28      -6.264  -3.229   5.097  1.00  0.00           N  \\nATOM    193  CA  ALA A  28      -7.553  -3.255   5.816  1.00  0.00           C  \\nATOM    194  C   ALA A  28      -7.720  -4.584   6.585  1.00  0.00           C  \\nATOM    195  O   ALA A  28      -8.619  -4.724   7.414  1.00  0.00           O  \\nATOM    196  CB  ALA A  28      -8.706  -3.049   4.844  1.00  0.00           C  \\nATOM    197  H   ALA A  28      -6.259  -3.335   4.093  1.00  0.00           H  \\nATOM    198  HA  ALA A  28      -7.553  -2.441   6.541  1.00  0.00           H  \\nATOM    199 1HB  ALA A  28      -9.650  -3.070   5.390  1.00  0.00           H  \\nATOM    200 2HB  ALA A  28      -8.596  -2.084   4.348  1.00  0.00           H  \\nATOM    201 3HB  ALA A  28      -8.700  -3.842   4.099  1.00  0.00           H  \\nATOM    202  N   ALA A  29      -6.846  -5.543   6.297  1.00  0.00           N  \\nATOM    203  CA  ALA A  29      -6.893  -6.845   6.951  1.00  0.00           C  \\nATOM    204  C   ALA A  29      -6.056  -6.852   8.224  1.00  0.00           C  \\nATOM    205  O   ALA A  29      -5.831  -7.902   8.825  1.00  0.00           O  \\nATOM    206  CB  ALA A  29      -6.418  -7.933   6.000  1.00  0.00           C  \\nATOM    207  H   ALA A  29      -6.131  -5.365   5.606  1.00  0.00           H  \\nATOM    208  HA  ALA A  29      -7.927  -7.046   7.230  1.00  0.00           H  \\nATOM    209 1HB  ALA A  29      -6.459  -8.899   6.504  1.00  0.00           H  \\nATOM    210 2HB  ALA A  29      -7.062  -7.955   5.121  1.00  0.00           H  \\nATOM    211 3HB  ALA A  29      -5.393  -7.727   5.694  1.00  0.00           H  \\nATOM    212  N   GLY A  30      -5.599  -5.673   8.632  1.00  0.00           N  \\nATOM    213  CA  GLY A  30      -4.786  -5.541   9.835  1.00  0.00           C  \\nATOM    214  C   GLY A  30      -3.324  -5.863   9.550  1.00  0.00           C  \\nATOM    215  O   GLY A  30      -2.505  -5.935  10.466  1.00  0.00           O  \\nATOM    216  H   GLY A  30      -5.819  -4.847   8.094  1.00  0.00           H  \\nATOM    217 1HA  GLY A  30      -4.870  -4.525  10.221  1.00  0.00           H  \\nATOM    218 2HA  GLY A  30      -5.166  -6.210  10.606  1.00  0.00           H  \\nATOM    219  N   ALA A  31      -3.004  -6.056   8.275  1.00  0.00           N  \\nATOM    220  CA  ALA A  31      -1.640  -6.371   7.868  1.00  0.00           C  \\nATOM    221  C   ALA A  31      -0.911  -5.127   7.375  1.00  0.00           C  \\nATOM    222  O   ALA A  31       0.042  -5.219   6.602  1.00  0.00           O  \\nATOM    223  CB  ALA A  31      -1.644  -7.443   6.788  1.00  0.00           C  \\nATOM    224  H   ALA A  31      -3.723  -5.982   7.571  1.00  0.00           H  \\nATOM    225  HA  ALA A  31      -1.104  -6.749   8.739  1.00  0.00           H  \\nATOM    226 1HB  ALA A  31      -0.618  -7.667   6.494  1.00  0.00           H  \\nATOM    227 2HB  ALA A  31      -2.116  -8.346   7.174  1.00  0.00           H  \\nATOM    228 3HB  ALA A  31      -2.199  -7.086   5.923  1.00  0.00           H  \\nATOM    229  N   ALA A  32      -1.365  -3.963   7.829  1.00  0.00           N  \\nATOM    230  CA  ALA A  32      -0.756  -2.698   7.435  1.00  0.00           C  \\nATOM    231  C   ALA A  32       0.762  -2.762   7.536  1.00  0.00           C  \\nATOM    232  O   ALA A  32       1.471  -2.027   6.848  1.00  0.00           O  \\nATOM    233  CB  ALA A  32      -1.296  -1.562   8.291  1.00  0.00           C  \\nATOM    234  H   ALA A  32      -2.151  -3.955   8.462  1.00  0.00           H  \\nATOM    235  HA  ALA A  32      -1.014  -2.508   6.393  1.00  0.00           H  \\nATOM    236 1HB  ALA A  32      -0.833  -0.624   7.985  1.00  0.00           H  \\nATOM    237 2HB  ALA A  32      -2.376  -1.491   8.163  1.00  0.00           H  \\nATOM    238 3HB  ALA A  32      -1.067  -1.755   9.338  1.00  0.00           H  \\nATOM    239  N   ALA A  33       1.256  -3.644   8.398  1.00  0.00           N  \\nATOM    240  CA  ALA A  33       2.692  -3.806   8.591  1.00  0.00           C  \\nATOM    241  C   ALA A  33       3.337  -4.484   7.389  1.00  0.00           C  \\nATOM    242  O   ALA A  33       3.515  -5.702   7.373  1.00  0.00           O  \\nATOM    243  CB  ALA A  33       2.971  -4.600   9.859  1.00  0.00           C  \\nATOM    244  H   ALA A  33       0.620  -4.218   8.933  1.00  0.00           H  \\nATOM    245  HA  ALA A  33       3.134  -2.814   8.691  1.00  0.00           H  \\nATOM    246 1HB  ALA A  33       4.047  -4.712   9.989  1.00  0.00           H  \\nATOM    247 2HB  ALA A  33       2.554  -4.072  10.717  1.00  0.00           H  \\nATOM    248 3HB  ALA A  33       2.511  -5.583   9.780  1.00  0.00           H  \\nATOM    249  N   ALA A  34       2.689  -5.531   6.889  1.00  0.00           N  \\nATOM    250  CA  ALA A  34       3.207  -6.282   5.720  1.00  0.00           C  \\nATOM    251  C   ALA A  34       2.741  -5.652   4.395  1.00  0.00           C  \\nATOM    252  O   ALA A  34       3.334  -5.887   3.342  1.00  0.00           O  \\nATOM    253  CB  ALA A  34       2.772  -7.738   5.791  1.00  0.00           C  \\nATOM    254  H   ALA A  34       3.049  -5.075   7.716  1.00  0.00           H  \\nATOM    255  HA  ALA A  34       4.296  -6.237   5.744  1.00  0.00           H  \\nATOM    256 1HB  ALA A  34       3.160  -8.277   4.926  1.00  0.00           H  \\nATOM    257 2HB  ALA A  34       3.161  -8.190   6.704  1.00  0.00           H  \\nATOM    258 3HB  ALA A  34       1.684  -7.793   5.794  1.00  0.00           H  \\nATOM    259  N   GLY A  35       1.668  -4.844   4.453  1.00  0.00           N  \\nATOM    260  CA  GLY A  35       1.100  -4.170   3.266  1.00  0.00           C  \\nATOM    261  C   GLY A  35       2.070  -3.111   2.701  1.00  0.00           C  \\nATOM    262  O   GLY A  35       2.338  -3.079   1.500  1.00  0.00           O  \\nATOM    263  H   GLY A  35       1.238  -4.698   5.355  1.00  0.00           H  \\nATOM    264 1HA  GLY A  35       0.880  -4.911   2.497  1.00  0.00           H  \\nATOM    265 2HA  GLY A  35       0.157  -3.695   3.534  1.00  0.00           H  \\nATOM    266  N   GLY A  36       2.588  -2.248   3.591  1.00  0.00           N  \\nATOM    267  CA  GLY A  36       3.597  -1.226   3.225  1.00  0.00           C  \\nATOM    268  C   GLY A  36       4.925  -1.866   2.809  1.00  0.00           C  \\nATOM    269  O   GLY A  36       5.650  -1.327   1.973  1.00  0.00           O  \\nATOM    270  H   GLY A  36       2.271  -2.305   4.548  1.00  0.00           H  \\nATOM    271 1HA  GLY A  36       3.216  -0.615   2.406  1.00  0.00           H  \\nATOM    272 2HA  GLY A  36       3.764  -0.561   4.071  1.00  0.00           H  \\nATOM    273  N   GLY A  37       5.253  -3.033   3.398  1.00  0.00           N  \\nATOM    274  CA  GLY A  37       6.440  -3.821   3.003  1.00  0.00           C  \\nATOM    275  C   GLY A  37       6.297  -4.268   1.535  1.00  0.00           C  \\nATOM    276  O   GLY A  37       7.266  -4.256   0.775  1.00  0.00           O  \\nATOM    277  H   GLY A  37       4.659  -3.377   4.139  1.00  0.00           H  \\nATOM    278 1HA  GLY A  37       7.338  -3.217   3.133  1.00  0.00           H  \\nATOM    279 2HA  GLY A  37       6.537  -4.686   3.658  1.00  0.00           H  \\nATOM    280  N   GLY A  38       5.066  -4.665   1.144  1.00  0.00           N  \\nATOM    281  CA  GLY A  38       4.758  -5.054  -0.248  1.00  0.00           C  \\nATOM    282  C   GLY A  38       4.736  -3.813  -1.170  1.00  0.00           C  \\nATOM    283  O   GLY A  38       4.922  -3.925  -2.382  1.00  0.00           O  \\nATOM    284  H   GLY A  38       4.332  -4.694   1.837  1.00  0.00           H  \\nATOM    285 1HA  GLY A  38       5.504  -5.766  -0.600  1.00  0.00           H  \\nATOM    286 2HA  GLY A  38       3.793  -5.558  -0.280  1.00  0.00           H  \\nATOM    287  N   GLY A  39       4.505  -2.612  -0.585  1.00  0.00           N  \\nATOM    288  CA  GLY A  39       4.612  -1.319  -1.304  1.00  0.00           C  \\nATOM    289  C   GLY A  39       6.075  -1.004  -1.652  1.00  0.00           C  \\nATOM    290  O   GLY A  39       6.366  -0.451  -2.713  1.00  0.00           O  \\nATOM    291  H   GLY A  39       4.247  -2.612   0.392  1.00  0.00           H  \\nATOM    292 1HA  GLY A  39       4.015  -1.359  -2.215  1.00  0.00           H  \\nATOM    293 2HA  GLY A  39       4.200  -0.523  -0.685  1.00  0.00           H  \\nATOM    294  N   GLY A  40       6.973  -1.373  -0.728  1.00  0.00           N  \\nATOM    295  CA  GLY A  40       8.426  -1.229  -0.906  1.00  0.00           C  \\nATOM    296  C   GLY A  40       8.940  -2.255  -1.928  1.00  0.00           C  \\nATOM    297  O   GLY A  40       9.898  -1.994  -2.656  1.00  0.00           O  \\nATOM    298  H   GLY A  40       6.619  -1.769   0.131  1.00  0.00           H  \\nATOM    299 1HA  GLY A  40       8.653  -0.217  -1.242  1.00  0.00           H  \\nATOM    300 2HA  GLY A  40       8.925  -1.369   0.052  1.00  0.00           H  \\nATOM    301  N   GLY A  41       8.285  -3.430  -1.969  1.00  0.00           N  \\nATOM    302  CA  GLY A  41       8.590  -4.486  -2.968  1.00  0.00           C  \\nATOM    303  C   GLY A  41       7.945  -4.154  -4.324  1.00  0.00           C  \\nATOM    304  O   GLY A  41       8.420  -4.592  -5.372  1.00  0.00           O  \\nATOM    305  H   GLY A  41       7.557  -3.592  -1.288  1.00  0.00           H  \\nATOM    306 1HA  GLY A  41       9.670  -4.578  -3.082  1.00  0.00           H  \\nATOM    307 2HA  GLY A  41       8.223  -5.446  -2.606  1.00  0.00           H  \\nATOM    308  N   GLY A  42       6.855  -3.372  -4.282  1.00  0.00           N  \\nATOM    309  CA  GLY A  42       6.114  -2.945  -5.481  1.00  0.00           C  \\nATOM    310  C   GLY A  42       6.969  -1.983  -6.301  1.00  0.00           C  \\nATOM    311  O   GLY A  42       7.222  -2.216  -7.483  1.00  0.00           O  \\nATOM    312  H   GLY A  42       6.537  -3.068  -3.373  1.00  0.00           H  \\nATOM    313 1HA  GLY A  42       5.848  -3.819  -6.075  1.00  0.00           H  \\nATOM    314 2HA  GLY A  42       5.183  -2.466  -5.181  1.00  0.00           H  \\nATOM    315  N   GLY A  43       7.411  -0.894  -5.650  1.00  0.00           N  \\nATOM    316  CA  GLY A  43       8.204   0.168  -6.295  1.00  0.00           C  \\nATOM    317  C   GLY A  43       9.530   0.381  -5.548  1.00  0.00           C  \\nATOM    318  O   GLY A  43      10.604   0.085  -6.073  1.00  0.00           O  \\nATOM    319  H   GLY A  43       7.182  -0.810  -4.670  1.00  0.00           H  \\nATOM    320 1HA  GLY A  43       8.399  -0.103  -7.333  1.00  0.00           H  \\nATOM    321 2HA  GLY A  43       7.630   1.094  -6.308  1.00  0.00           H  \\nATOM    322  N   GLY A  44       9.452   0.899  -4.313  1.00  0.00           N  \\nATOM    323  CA  GLY A  44      10.645   1.249  -3.502  1.00  0.00           C  \\nATOM    324  C   GLY A  44      10.213   1.726  -2.101  1.00  0.00           C  \\nATOM    325  O   GLY A  44       9.133   2.292  -1.933  1.00  0.00           O  \\nATOM    326  OXT GLY A  44      10.933   1.547  -1.158  1.00  0.00           O  \\nATOM    327  H   GLY A  44       8.532   1.054  -3.927  1.00  0.00           H  \\nATOM    328 1HA  GLY A  44      11.297   0.379  -3.420  1.00  0.00           H  \\nATOM    329 2HA  GLY A  44      11.212   2.029  -4.008  1.00  0.00           H  \\nTER                                                                             \\n\",\"pdb\");\n\tviewer_17031930066241446.zoomTo();\n\tviewer_17031930066241446.setStyle({\"cartoon\": {\"color\": \"spectrum\"}, \"stick\": {\"colorscheme\": \"blackCarbon\", \"radius\": \"0.1\"}});\nviewer_17031930066241446.render();\n});\n</script>",
         "text/html": "<div id=\"3dmolviewer_17031930066241446\"  style=\"position: relative; width: 1200px; height: 800px;\">\n        <p id=\"3dmolwarning_17031930066241446\" style=\"background-color:#ffcccc;color:black\">You appear to be running in JupyterLab (or JavaScript failed to load for some other reason).  You need to install the 3dmol extension: <br>\n        <tt>jupyter labextension install jupyterlab_3dmol</tt></p>\n        </div>\n<script>\n\nvar loadScriptAsync = function(uri){\n  return new Promise((resolve, reject) => {\n    //this is to ignore the existence of requirejs amd\n    var savedexports, savedmodule;\n    if (typeof exports !== 'undefined') savedexports = exports;\n    else exports = {}\n    if (typeof module !== 'undefined') savedmodule = module;\n    else module = {}\n\n    var tag = document.createElement('script');\n    tag.src = uri;\n    tag.async = true;\n    tag.onload = () => {\n        exports = savedexports;\n        module = savedmodule;\n        resolve();\n    };\n  var firstScriptTag = document.getElementsByTagName('script')[0];\n  firstScriptTag.parentNode.insertBefore(tag, firstScriptTag);\n});\n};\n\nif(typeof $3Dmolpromise === 'undefined') {\n$3Dmolpromise = null;\n  $3Dmolpromise = loadScriptAsync('https://cdnjs.cloudflare.com/ajax/libs/3Dmol/2.0.4/3Dmol-min.js');\n}\n\nvar viewer_17031930066241446 = null;\nvar warn = document.getElementById(\"3dmolwarning_17031930066241446\");\nif(warn) {\n    warn.parentNode.removeChild(warn);\n}\n$3Dmolpromise.then(function() {\nviewer_17031930066241446 = $3Dmol.createViewer(document.getElementById(\"3dmolviewer_17031930066241446\"),{backgroundColor:\"white\"});\nviewer_17031930066241446.zoomTo();\n\tviewer_17031930066241446.addModels(\"HEADER                                            21-DEC-23   XXXX              \\nEXPDTA    THEORETICAL MODEL                                                     \\nREMARK 220                                                                      \\nREMARK 220 EXPERIMENTAL DETAILS                                                 \\nREMARK 220  EXPERIMENT TYPE                : THEORETICAL MODELLING              \\nREMARK 220  DATE OF DATA COLLECTION        : 21-DEC-23                          \\nREMARK 220                                                                      \\nREMARK 220 REMARK: MODEL GENERATED BY ROSETTA                                   \\nREMARK 220  VERSION 2023.49+release.9891f2c59fb                                 \\nATOM      1  N   GLY A   1      -5.069   6.358  13.089  1.00  0.00           N  \\nATOM      2  CA  GLY A   1      -5.896   6.272  11.856  1.00  0.00           C  \\nATOM      3  C   GLY A   1      -5.657   4.913  11.159  1.00  0.00           C  \\nATOM      4  O   GLY A   1      -4.525   4.436  11.079  1.00  0.00           O  \\nATOM      5 1H   GLY A   1      -5.227   7.238  13.536  1.00  0.00           H  \\nATOM      6 2H   GLY A   1      -5.321   5.618  13.712  1.00  0.00           H  \\nATOM      7 3H   GLY A   1      -4.102   6.276  12.849  1.00  0.00           H  \\nATOM      8 1HA  GLY A   1      -6.949   6.387  12.115  1.00  0.00           H  \\nATOM      9 2HA  GLY A   1      -5.639   7.093  11.187  1.00  0.00           H  \\nATOM     10  N   GLY A   2      -6.742   4.238  10.624  1.00  0.00           N  \\nATOM     11  CA  GLY A   2      -6.697   2.809  10.180  1.00  0.00           C  \\nATOM     12  C   GLY A   2      -5.510   2.467   9.257  1.00  0.00           C  \\nATOM     13  O   GLY A   2      -4.649   1.661   9.610  1.00  0.00           O  \\nATOM     14  H   GLY A   2      -7.606   4.754  10.535  1.00  0.00           H  \\nATOM     15 1HA  GLY A   2      -6.644   2.158  11.053  1.00  0.00           H  \\nATOM     16 2HA  GLY A   2      -7.617   2.563   9.651  1.00  0.00           H  \\nATOM     17  N   GLY A   3      -5.479   3.091   8.075  1.00  0.00           N  \\nATOM     18  CA  GLY A   3      -4.433   2.860   7.077  1.00  0.00           C  \\nATOM     19  C   GLY A   3      -4.185   4.146   6.276  1.00  0.00           C  \\nATOM     20  O   GLY A   3      -3.733   4.099   5.132  1.00  0.00           O  \\nATOM     21  H   GLY A   3      -6.216   3.750   7.871  1.00  0.00           H  \\nATOM     22 1HA  GLY A   3      -3.518   2.540   7.576  1.00  0.00           H  \\nATOM     23 2HA  GLY A   3      -4.736   2.051   6.413  1.00  0.00           H  \\nATOM     24  N   GLY A   4      -4.485   5.309   6.886  1.00  0.00           N  \\nATOM     25  CA  GLY A   4      -4.443   6.607   6.186  1.00  0.00           C  \\nATOM     26  C   GLY A   4      -3.022   6.969   5.739  1.00  0.00           C  \\nATOM     27  O   GLY A   4      -2.797   7.327   4.583  1.00  0.00           O  \\nATOM     28  H   GLY A   4      -4.748   5.284   7.861  1.00  0.00           H  \\nATOM     29 1HA  GLY A   4      -5.098   6.572   5.315  1.00  0.00           H  \\nATOM     30 2HA  GLY A   4      -4.824   7.387   6.844  1.00  0.00           H  \\nATOM     31  N   GLY A   5      -2.055   6.876   6.661  1.00  0.00           N  \\nATOM     32  CA  GLY A   5      -0.641   7.197   6.380  1.00  0.00           C  \\nATOM     33  C   GLY A   5      -0.109   6.319   5.227  1.00  0.00           C  \\nATOM     34  O   GLY A   5       0.531   6.816   4.300  1.00  0.00           O  \\nATOM     35  H   GLY A   5      -2.315   6.571   7.588  1.00  0.00           H  \\nATOM     36 1HA  GLY A   5      -0.552   8.252   6.120  1.00  0.00           H  \\nATOM     37 2HA  GLY A   5      -0.046   7.037   7.278  1.00  0.00           H  \\nATOM     38  N   GLY A   6      -0.392   5.007   5.313  1.00  0.00           N  \\nATOM     39  CA  GLY A   6       0.087   3.994   4.348  1.00  0.00           C  \\nATOM     40  C   GLY A   6      -0.521   4.245   2.947  1.00  0.00           C  \\nATOM     41  O   GLY A   6       0.201   4.340   1.954  1.00  0.00           O  \\nATOM     42  H   GLY A   6      -0.967   4.713   6.089  1.00  0.00           H  \\nATOM     43 1HA  GLY A   6       1.175   4.029   4.294  1.00  0.00           H  \\nATOM     44 2HA  GLY A   6      -0.185   3.000   4.700  1.00  0.00           H  \\nATOM     45  N   GLY A   7      -1.856   4.346   2.912  1.00  0.00           N  \\nATOM     46  CA  GLY A   7      -2.660   4.422   1.678  1.00  0.00           C  \\nATOM     47  C   GLY A   7      -2.471   5.772   0.956  1.00  0.00           C  \\nATOM     48  O   GLY A   7      -2.529   5.844  -0.272  1.00  0.00           O  \\nATOM     49  H   GLY A   7      -2.324   4.370   3.807  1.00  0.00           H  \\nATOM     50 1HA  GLY A   7      -2.377   3.610   1.008  1.00  0.00           H  \\nATOM     51 2HA  GLY A   7      -3.713   4.285   1.921  1.00  0.00           H  \\nATOM     52  N   GLY A   8      -2.244   6.844   1.730  1.00  0.00           N  \\nATOM     53  CA  GLY A   8      -1.917   8.167   1.165  1.00  0.00           C  \\nATOM     54  C   GLY A   8      -0.493   8.190   0.589  1.00  0.00           C  \\nATOM     55  O   GLY A   8      -0.194   8.961  -0.323  1.00  0.00           O  \\nATOM     56  H   GLY A   8      -2.300   6.737   2.733  1.00  0.00           H  \\nATOM     57 1HA  GLY A   8      -2.634   8.416   0.382  1.00  0.00           H  \\nATOM     58 2HA  GLY A   8      -2.012   8.927   1.940  1.00  0.00           H  \\nATOM     59  N   GLY A   9       0.407   7.335   1.123  1.00  0.00           N  \\nATOM     60  CA  GLY A   9       1.772   7.168   0.579  1.00  0.00           C  \\nATOM     61  C   GLY A   9       1.752   6.362  -0.726  1.00  0.00           C  \\nATOM     62  O   GLY A   9       2.604   6.547  -1.595  1.00  0.00           O  \\nATOM     63  H   GLY A   9       0.128   6.791   1.927  1.00  0.00           H  \\nATOM     64 1HA  GLY A   9       2.215   8.148   0.400  1.00  0.00           H  \\nATOM     65 2HA  GLY A   9       2.397   6.663   1.314  1.00  0.00           H  \\nATOM     66  N   GLY A  10       0.772   5.448  -0.886  1.00  0.00           N  \\nATOM     67  CA  GLY A  10       0.564   4.723  -2.172  1.00  0.00           C  \\nATOM     68  C   GLY A  10       0.260   5.745  -3.293  1.00  0.00           C  \\nATOM     69  O   GLY A  10       0.689   5.575  -4.434  1.00  0.00           O  \\nATOM     70  H   GLY A  10       0.161   5.251  -0.106  1.00  0.00           H  \\nATOM     71 1HA  GLY A  10       1.456   4.143  -2.411  1.00  0.00           H  \\nATOM     72 2HA  GLY A  10      -0.258   4.017  -2.062  1.00  0.00           H  \\nATOM     73  N   GLY A  11      -0.490   6.789  -2.895  1.00  0.00           N  \\nATOM     74  CA  GLY A  11      -0.881   7.904  -3.762  1.00  0.00           C  \\nATOM     75  C   GLY A  11       0.295   8.887  -3.981  1.00  0.00           C  \\nATOM     76  O   GLY A  11       0.542   9.335  -5.101  1.00  0.00           O  \\nATOM     77  H   GLY A  11      -0.793   6.785  -1.932  1.00  0.00           H  \\nATOM     78 1HA  GLY A  11      -1.218   7.516  -4.724  1.00  0.00           H  \\nATOM     79 2HA  GLY A  11      -1.722   8.433  -3.316  1.00  0.00           H  \\nATOM     80  N   GLY A  12       1.011   9.210  -2.886  1.00  0.00           N  \\nATOM     81  CA  GLY A  12       2.072  10.247  -2.865  1.00  0.00           C  \\nATOM     82  C   GLY A  12       3.318   9.753  -3.635  1.00  0.00           C  \\nATOM     83  O   GLY A  12       3.937  10.509  -4.384  1.00  0.00           O  \\nATOM     84  H   GLY A  12       0.799   8.706  -2.037  1.00  0.00           H  \\nATOM     85 1HA  GLY A  12       1.692  11.165  -3.313  1.00  0.00           H  \\nATOM     86 2HA  GLY A  12       2.334  10.478  -1.833  1.00  0.00           H  \\nATOM     87  N   GLY A  13       3.665   8.470  -3.431  1.00  0.00           N  \\nATOM     88  CA  GLY A  13       4.810   7.820  -4.101  1.00  0.00           C  \\nATOM     89  C   GLY A  13       4.494   7.517  -5.572  1.00  0.00           C  \\nATOM     90  O   GLY A  13       5.397   7.292  -6.377  1.00  0.00           O  \\nATOM     91  H   GLY A  13       3.105   7.934  -2.783  1.00  0.00           H  \\nATOM     92 1HA  GLY A  13       5.684   8.469  -4.039  1.00  0.00           H  \\nATOM     93 2HA  GLY A  13       5.059   6.896  -3.581  1.00  0.00           H  \\nATOM     94  N   GLY A  14       3.190   7.515  -5.912  1.00  0.00           N  \\nATOM     95  CA  GLY A  14       2.732   7.423  -7.297  1.00  0.00           C  \\nATOM     96  C   GLY A  14       3.096   6.112  -7.977  1.00  0.00           C  \\nATOM     97  O   GLY A  14       3.710   6.105  -9.044  1.00  0.00           O  \\nATOM     98  H   GLY A  14       2.507   7.580  -5.171  1.00  0.00           H  \\nATOM     99 1HA  GLY A  14       1.648   7.538  -7.330  1.00  0.00           H  \\nATOM    100 2HA  GLY A  14       3.160   8.240  -7.876  1.00  0.00           H  \\nATOM    101  N   GLY A  15       2.703   4.994  -7.334  1.00  0.00           N  \\nATOM    102  CA  GLY A  15       2.867   3.641  -7.868  1.00  0.00           C  \\nATOM    103  C   GLY A  15       1.749   3.353  -8.892  1.00  0.00           C  \\nATOM    104  O   GLY A  15       0.964   4.238  -9.234  1.00  0.00           O  \\nATOM    105  H   GLY A  15       2.271   5.117  -6.429  1.00  0.00           H  \\nATOM    106 1HA  GLY A  15       3.848   3.551  -8.335  1.00  0.00           H  \\nATOM    107 2HA  GLY A  15       2.833   2.921  -7.051  1.00  0.00           H  \\nATOM    108  N   GLY A  16       1.680   2.103  -9.382  1.00  0.00           N  \\nATOM    109  CA  GLY A  16       0.595   1.676 -10.278  1.00  0.00           C  \\nATOM    110  C   GLY A  16      -0.769   1.764  -9.560  1.00  0.00           C  \\nATOM    111  O   GLY A  16      -0.842   1.684  -8.334  1.00  0.00           O  \\nATOM    112  H   GLY A  16       2.396   1.439  -9.125  1.00  0.00           H  \\nATOM    113 1HA  GLY A  16       0.589   2.305 -11.168  1.00  0.00           H  \\nATOM    114 2HA  GLY A  16       0.777   0.654 -10.608  1.00  0.00           H  \\nATOM    115  N   GLY A  17      -1.843   1.929 -10.343  1.00  0.00           N  \\nATOM    116  CA  GLY A  17      -3.231   1.948  -9.842  1.00  0.00           C  \\nATOM    117  C   GLY A  17      -3.556   0.601  -9.185  1.00  0.00           C  \\nATOM    118  O   GLY A  17      -4.118   0.553  -8.091  1.00  0.00           O  \\nATOM    119  H   GLY A  17      -1.675   2.046 -11.332  1.00  0.00           H  \\nATOM    120 1HA  GLY A  17      -3.348   2.762  -9.126  1.00  0.00           H  \\nATOM    121 2HA  GLY A  17      -3.913   2.146 -10.668  1.00  0.00           H  \\nATOM    122  N   GLY A  18      -3.178  -0.484  -9.899  1.00  0.00           N  \\nATOM    123  CA  GLY A  18      -3.273  -1.865  -9.412  1.00  0.00           C  \\nATOM    124  C   GLY A  18      -2.447  -2.055  -8.131  1.00  0.00           C  \\nATOM    125  O   GLY A  18      -2.837  -2.803  -7.234  1.00  0.00           O  \\nATOM    126  H   GLY A  18      -2.810  -0.313 -10.824  1.00  0.00           H  \\nATOM    127 1HA  GLY A  18      -4.317  -2.112  -9.218  1.00  0.00           H  \\nATOM    128 2HA  GLY A  18      -2.920  -2.548 -10.184  1.00  0.00           H  \\nATOM    129  N   GLY A  19      -1.278  -1.364  -8.039  1.00  0.00           N  \\nATOM    130  CA  GLY A  19      -0.395  -1.479  -6.872  1.00  0.00           C  \\nATOM    131  C   GLY A  19      -1.137  -1.004  -5.626  1.00  0.00           C  \\nATOM    132  O   GLY A  19      -1.176  -1.701  -4.612  1.00  0.00           O  \\nATOM    133  H   GLY A  19      -1.012  -0.754  -8.799  1.00  0.00           H  \\nATOM    134 1HA  GLY A  19      -0.076  -2.515  -6.758  1.00  0.00           H  \\nATOM    135 2HA  GLY A  19       0.502  -0.883  -7.035  1.00  0.00           H  \\nATOM    136  N   GLY A  20      -1.734   0.212  -5.718  1.00  0.00           N  \\nATOM    137  CA  GLY A  20      -2.487   0.823  -4.607  1.00  0.00           C  \\nATOM    138  C   GLY A  20      -3.632  -0.113  -4.185  1.00  0.00           C  \\nATOM    139  O   GLY A  20      -3.779  -0.438  -3.007  1.00  0.00           O  \\nATOM    140  H   GLY A  20      -1.653   0.713  -6.591  1.00  0.00           H  \\nATOM    141 1HA  GLY A  20      -1.814   1.007  -3.769  1.00  0.00           H  \\nATOM    142 2HA  GLY A  20      -2.879   1.789  -4.922  1.00  0.00           H  \\nATOM    143  N   GLY A  21      -4.428  -0.526  -5.199  1.00  0.00           N  \\nATOM    144  CA  GLY A  21      -5.637  -1.354  -5.021  1.00  0.00           C  \\nATOM    145  C   GLY A  21      -5.322  -2.700  -4.332  1.00  0.00           C  \\nATOM    146  O   GLY A  21      -6.159  -3.255  -3.620  1.00  0.00           O  \\nATOM    147  H   GLY A  21      -4.161  -0.239  -6.130  1.00  0.00           H  \\nATOM    148 1HA  GLY A  21      -6.368  -0.807  -4.425  1.00  0.00           H  \\nATOM    149 2HA  GLY A  21      -6.093  -1.545  -5.992  1.00  0.00           H  \\nATOM    150  N   GLY A  22      -4.100  -3.214  -4.557  1.00  0.00           N  \\nATOM    151  CA  GLY A  22      -3.584  -4.424  -3.879  1.00  0.00           C  \\nATOM    152  C   GLY A  22      -3.314  -4.134  -2.389  1.00  0.00           C  \\nATOM    153  O   GLY A  22      -3.766  -4.870  -1.512  1.00  0.00           O  \\nATOM    154  H   GLY A  22      -3.514  -2.738  -5.228  1.00  0.00           H  \\nATOM    155 1HA  GLY A  22      -4.308  -5.233  -3.978  1.00  0.00           H  \\nATOM    156 2HA  GLY A  22      -2.668  -4.752  -4.368  1.00  0.00           H  \\nATOM    157  N   GLY A  23      -2.573  -3.052  -2.161  1.00  0.00           N  \\nATOM    158  CA  GLY A  23      -1.901  -2.751  -0.893  1.00  0.00           C  \\nATOM    159  C   GLY A  23      -2.861  -2.250   0.188  1.00  0.00           C  \\nATOM    160  O   GLY A  23      -2.825  -2.715   1.327  1.00  0.00           O  \\nATOM    161  H   GLY A  23      -2.481  -2.406  -2.932  1.00  0.00           H  \\nATOM    162 1HA  GLY A  23      -1.397  -3.646  -0.527  1.00  0.00           H  \\nATOM    163 2HA  GLY A  23      -1.134  -1.995  -1.058  1.00  0.00           H  \\nATOM    164  N   GLY A  24      -3.728  -1.290  -0.178  1.00  0.00           N  \\nATOM    165  CA  GLY A  24      -4.732  -0.728   0.742  1.00  0.00           C  \\nATOM    166  C   GLY A  24      -5.761  -1.803   1.138  1.00  0.00           C  \\nATOM    167  O   GLY A  24      -6.297  -1.785   2.246  1.00  0.00           O  \\nATOM    168  H   GLY A  24      -3.682  -0.945  -1.126  1.00  0.00           H  \\nATOM    169 1HA  GLY A  24      -4.234  -0.341   1.631  1.00  0.00           H  \\nATOM    170 2HA  GLY A  24      -5.234   0.112   0.263  1.00  0.00           H  \\nATOM    171  N   GLY A  25      -6.026  -2.742   0.206  1.00  0.00           N  \\nATOM    172  CA  GLY A  25      -6.928  -3.893   0.416  1.00  0.00           C  \\nATOM    173  C   GLY A  25      -6.349  -4.821   1.502  1.00  0.00           C  \\nATOM    174  O   GLY A  25      -7.052  -5.221   2.430  1.00  0.00           O  \\nATOM    175  H   GLY A  25      -5.568  -2.633  -0.687  1.00  0.00           H  \\nATOM    176 1HA  GLY A  25      -7.914  -3.534   0.710  1.00  0.00           H  \\nATOM    177 2HA  GLY A  25      -7.050  -4.435  -0.521  1.00  0.00           H  \\nATOM    178  N   GLY A  26      -5.050  -5.147   1.355  1.00  0.00           N  \\nATOM    179  CA  GLY A  26      -4.309  -5.992   2.313  1.00  0.00           C  \\nATOM    180  C   GLY A  26      -4.125  -5.284   3.660  1.00  0.00           C  \\nATOM    181  O   GLY A  26      -4.058  -5.928   4.707  1.00  0.00           O  \\nATOM    182  H   GLY A  26      -4.570  -4.788   0.542  1.00  0.00           H  \\nATOM    183 1HA  GLY A  26      -4.846  -6.929   2.463  1.00  0.00           H  \\nATOM    184 2HA  GLY A  26      -3.334  -6.244   1.897  1.00  0.00           H  \\nATOM    185  N   GLY A  27      -4.044  -3.952   3.621  1.00  0.00           N  \\nATOM    186  CA  GLY A  27      -3.829  -3.120   4.815  1.00  0.00           C  \\nATOM    187  C   GLY A  27      -5.080  -3.069   5.716  1.00  0.00           C  \\nATOM    188  O   GLY A  27      -4.976  -2.891   6.930  1.00  0.00           O  \\nATOM    189  H   GLY A  27      -4.137  -3.505   2.720  1.00  0.00           H  \\nATOM    190 1HA  GLY A  27      -2.989  -3.514   5.387  1.00  0.00           H  \\nATOM    191 2HA  GLY A  27      -3.563  -2.108   4.510  1.00  0.00           H  \\nATOM    192  N   ALA A  28      -6.264  -3.229   5.097  1.00  0.00           N  \\nATOM    193  CA  ALA A  28      -7.553  -3.255   5.816  1.00  0.00           C  \\nATOM    194  C   ALA A  28      -7.720  -4.584   6.585  1.00  0.00           C  \\nATOM    195  O   ALA A  28      -8.619  -4.724   7.414  1.00  0.00           O  \\nATOM    196  CB  ALA A  28      -8.706  -3.049   4.844  1.00  0.00           C  \\nATOM    197  H   ALA A  28      -6.259  -3.335   4.093  1.00  0.00           H  \\nATOM    198  HA  ALA A  28      -7.553  -2.441   6.541  1.00  0.00           H  \\nATOM    199 1HB  ALA A  28      -9.650  -3.070   5.390  1.00  0.00           H  \\nATOM    200 2HB  ALA A  28      -8.596  -2.084   4.348  1.00  0.00           H  \\nATOM    201 3HB  ALA A  28      -8.700  -3.842   4.099  1.00  0.00           H  \\nATOM    202  N   ALA A  29      -6.846  -5.543   6.297  1.00  0.00           N  \\nATOM    203  CA  ALA A  29      -6.893  -6.845   6.951  1.00  0.00           C  \\nATOM    204  C   ALA A  29      -6.056  -6.852   8.224  1.00  0.00           C  \\nATOM    205  O   ALA A  29      -5.831  -7.902   8.825  1.00  0.00           O  \\nATOM    206  CB  ALA A  29      -6.418  -7.933   6.000  1.00  0.00           C  \\nATOM    207  H   ALA A  29      -6.131  -5.365   5.606  1.00  0.00           H  \\nATOM    208  HA  ALA A  29      -7.927  -7.046   7.230  1.00  0.00           H  \\nATOM    209 1HB  ALA A  29      -6.459  -8.899   6.504  1.00  0.00           H  \\nATOM    210 2HB  ALA A  29      -7.062  -7.955   5.121  1.00  0.00           H  \\nATOM    211 3HB  ALA A  29      -5.393  -7.727   5.694  1.00  0.00           H  \\nATOM    212  N   GLY A  30      -5.599  -5.673   8.632  1.00  0.00           N  \\nATOM    213  CA  GLY A  30      -4.786  -5.541   9.835  1.00  0.00           C  \\nATOM    214  C   GLY A  30      -3.324  -5.863   9.550  1.00  0.00           C  \\nATOM    215  O   GLY A  30      -2.505  -5.935  10.466  1.00  0.00           O  \\nATOM    216  H   GLY A  30      -5.819  -4.847   8.094  1.00  0.00           H  \\nATOM    217 1HA  GLY A  30      -4.870  -4.525  10.221  1.00  0.00           H  \\nATOM    218 2HA  GLY A  30      -5.166  -6.210  10.606  1.00  0.00           H  \\nATOM    219  N   ALA A  31      -3.004  -6.056   8.275  1.00  0.00           N  \\nATOM    220  CA  ALA A  31      -1.640  -6.371   7.868  1.00  0.00           C  \\nATOM    221  C   ALA A  31      -0.911  -5.127   7.375  1.00  0.00           C  \\nATOM    222  O   ALA A  31       0.042  -5.219   6.602  1.00  0.00           O  \\nATOM    223  CB  ALA A  31      -1.644  -7.443   6.788  1.00  0.00           C  \\nATOM    224  H   ALA A  31      -3.723  -5.982   7.571  1.00  0.00           H  \\nATOM    225  HA  ALA A  31      -1.104  -6.749   8.739  1.00  0.00           H  \\nATOM    226 1HB  ALA A  31      -0.618  -7.667   6.494  1.00  0.00           H  \\nATOM    227 2HB  ALA A  31      -2.116  -8.346   7.174  1.00  0.00           H  \\nATOM    228 3HB  ALA A  31      -2.199  -7.086   5.923  1.00  0.00           H  \\nATOM    229  N   ALA A  32      -1.365  -3.963   7.829  1.00  0.00           N  \\nATOM    230  CA  ALA A  32      -0.756  -2.698   7.435  1.00  0.00           C  \\nATOM    231  C   ALA A  32       0.762  -2.762   7.536  1.00  0.00           C  \\nATOM    232  O   ALA A  32       1.471  -2.027   6.848  1.00  0.00           O  \\nATOM    233  CB  ALA A  32      -1.296  -1.562   8.291  1.00  0.00           C  \\nATOM    234  H   ALA A  32      -2.151  -3.955   8.462  1.00  0.00           H  \\nATOM    235  HA  ALA A  32      -1.014  -2.508   6.393  1.00  0.00           H  \\nATOM    236 1HB  ALA A  32      -0.833  -0.624   7.985  1.00  0.00           H  \\nATOM    237 2HB  ALA A  32      -2.376  -1.491   8.163  1.00  0.00           H  \\nATOM    238 3HB  ALA A  32      -1.067  -1.755   9.338  1.00  0.00           H  \\nATOM    239  N   ALA A  33       1.256  -3.644   8.398  1.00  0.00           N  \\nATOM    240  CA  ALA A  33       2.692  -3.806   8.591  1.00  0.00           C  \\nATOM    241  C   ALA A  33       3.337  -4.484   7.389  1.00  0.00           C  \\nATOM    242  O   ALA A  33       3.515  -5.702   7.373  1.00  0.00           O  \\nATOM    243  CB  ALA A  33       2.971  -4.600   9.859  1.00  0.00           C  \\nATOM    244  H   ALA A  33       0.620  -4.218   8.933  1.00  0.00           H  \\nATOM    245  HA  ALA A  33       3.134  -2.814   8.691  1.00  0.00           H  \\nATOM    246 1HB  ALA A  33       4.047  -4.712   9.989  1.00  0.00           H  \\nATOM    247 2HB  ALA A  33       2.554  -4.072  10.717  1.00  0.00           H  \\nATOM    248 3HB  ALA A  33       2.511  -5.583   9.780  1.00  0.00           H  \\nATOM    249  N   ALA A  34       2.689  -5.531   6.889  1.00  0.00           N  \\nATOM    250  CA  ALA A  34       3.207  -6.282   5.720  1.00  0.00           C  \\nATOM    251  C   ALA A  34       2.741  -5.652   4.395  1.00  0.00           C  \\nATOM    252  O   ALA A  34       3.334  -5.887   3.342  1.00  0.00           O  \\nATOM    253  CB  ALA A  34       2.772  -7.738   5.791  1.00  0.00           C  \\nATOM    254  H   ALA A  34       3.049  -5.075   7.716  1.00  0.00           H  \\nATOM    255  HA  ALA A  34       4.296  -6.237   5.744  1.00  0.00           H  \\nATOM    256 1HB  ALA A  34       3.160  -8.277   4.926  1.00  0.00           H  \\nATOM    257 2HB  ALA A  34       3.161  -8.190   6.704  1.00  0.00           H  \\nATOM    258 3HB  ALA A  34       1.684  -7.793   5.794  1.00  0.00           H  \\nATOM    259  N   GLY A  35       1.668  -4.844   4.453  1.00  0.00           N  \\nATOM    260  CA  GLY A  35       1.100  -4.170   3.266  1.00  0.00           C  \\nATOM    261  C   GLY A  35       2.070  -3.111   2.701  1.00  0.00           C  \\nATOM    262  O   GLY A  35       2.338  -3.079   1.500  1.00  0.00           O  \\nATOM    263  H   GLY A  35       1.238  -4.698   5.355  1.00  0.00           H  \\nATOM    264 1HA  GLY A  35       0.880  -4.911   2.497  1.00  0.00           H  \\nATOM    265 2HA  GLY A  35       0.157  -3.695   3.534  1.00  0.00           H  \\nATOM    266  N   GLY A  36       2.588  -2.248   3.591  1.00  0.00           N  \\nATOM    267  CA  GLY A  36       3.597  -1.226   3.225  1.00  0.00           C  \\nATOM    268  C   GLY A  36       4.925  -1.866   2.809  1.00  0.00           C  \\nATOM    269  O   GLY A  36       5.650  -1.327   1.973  1.00  0.00           O  \\nATOM    270  H   GLY A  36       2.271  -2.305   4.548  1.00  0.00           H  \\nATOM    271 1HA  GLY A  36       3.216  -0.615   2.406  1.00  0.00           H  \\nATOM    272 2HA  GLY A  36       3.764  -0.561   4.071  1.00  0.00           H  \\nATOM    273  N   GLY A  37       5.253  -3.033   3.398  1.00  0.00           N  \\nATOM    274  CA  GLY A  37       6.440  -3.821   3.003  1.00  0.00           C  \\nATOM    275  C   GLY A  37       6.297  -4.268   1.535  1.00  0.00           C  \\nATOM    276  O   GLY A  37       7.266  -4.256   0.775  1.00  0.00           O  \\nATOM    277  H   GLY A  37       4.659  -3.377   4.139  1.00  0.00           H  \\nATOM    278 1HA  GLY A  37       7.338  -3.217   3.133  1.00  0.00           H  \\nATOM    279 2HA  GLY A  37       6.537  -4.686   3.658  1.00  0.00           H  \\nATOM    280  N   GLY A  38       5.066  -4.665   1.144  1.00  0.00           N  \\nATOM    281  CA  GLY A  38       4.758  -5.054  -0.248  1.00  0.00           C  \\nATOM    282  C   GLY A  38       4.736  -3.813  -1.170  1.00  0.00           C  \\nATOM    283  O   GLY A  38       4.922  -3.925  -2.382  1.00  0.00           O  \\nATOM    284  H   GLY A  38       4.332  -4.694   1.837  1.00  0.00           H  \\nATOM    285 1HA  GLY A  38       5.504  -5.766  -0.600  1.00  0.00           H  \\nATOM    286 2HA  GLY A  38       3.793  -5.558  -0.280  1.00  0.00           H  \\nATOM    287  N   GLY A  39       4.505  -2.612  -0.585  1.00  0.00           N  \\nATOM    288  CA  GLY A  39       4.612  -1.319  -1.304  1.00  0.00           C  \\nATOM    289  C   GLY A  39       6.075  -1.004  -1.652  1.00  0.00           C  \\nATOM    290  O   GLY A  39       6.366  -0.451  -2.713  1.00  0.00           O  \\nATOM    291  H   GLY A  39       4.247  -2.612   0.392  1.00  0.00           H  \\nATOM    292 1HA  GLY A  39       4.015  -1.359  -2.215  1.00  0.00           H  \\nATOM    293 2HA  GLY A  39       4.200  -0.523  -0.685  1.00  0.00           H  \\nATOM    294  N   GLY A  40       6.973  -1.373  -0.728  1.00  0.00           N  \\nATOM    295  CA  GLY A  40       8.426  -1.229  -0.906  1.00  0.00           C  \\nATOM    296  C   GLY A  40       8.940  -2.255  -1.928  1.00  0.00           C  \\nATOM    297  O   GLY A  40       9.898  -1.994  -2.656  1.00  0.00           O  \\nATOM    298  H   GLY A  40       6.619  -1.769   0.131  1.00  0.00           H  \\nATOM    299 1HA  GLY A  40       8.653  -0.217  -1.242  1.00  0.00           H  \\nATOM    300 2HA  GLY A  40       8.925  -1.369   0.052  1.00  0.00           H  \\nATOM    301  N   GLY A  41       8.285  -3.430  -1.969  1.00  0.00           N  \\nATOM    302  CA  GLY A  41       8.590  -4.486  -2.968  1.00  0.00           C  \\nATOM    303  C   GLY A  41       7.945  -4.154  -4.324  1.00  0.00           C  \\nATOM    304  O   GLY A  41       8.420  -4.592  -5.372  1.00  0.00           O  \\nATOM    305  H   GLY A  41       7.557  -3.592  -1.288  1.00  0.00           H  \\nATOM    306 1HA  GLY A  41       9.670  -4.578  -3.082  1.00  0.00           H  \\nATOM    307 2HA  GLY A  41       8.223  -5.446  -2.606  1.00  0.00           H  \\nATOM    308  N   GLY A  42       6.855  -3.372  -4.282  1.00  0.00           N  \\nATOM    309  CA  GLY A  42       6.114  -2.945  -5.481  1.00  0.00           C  \\nATOM    310  C   GLY A  42       6.969  -1.983  -6.301  1.00  0.00           C  \\nATOM    311  O   GLY A  42       7.222  -2.216  -7.483  1.00  0.00           O  \\nATOM    312  H   GLY A  42       6.537  -3.068  -3.373  1.00  0.00           H  \\nATOM    313 1HA  GLY A  42       5.848  -3.819  -6.075  1.00  0.00           H  \\nATOM    314 2HA  GLY A  42       5.183  -2.466  -5.181  1.00  0.00           H  \\nATOM    315  N   GLY A  43       7.411  -0.894  -5.650  1.00  0.00           N  \\nATOM    316  CA  GLY A  43       8.204   0.168  -6.295  1.00  0.00           C  \\nATOM    317  C   GLY A  43       9.530   0.381  -5.548  1.00  0.00           C  \\nATOM    318  O   GLY A  43      10.604   0.085  -6.073  1.00  0.00           O  \\nATOM    319  H   GLY A  43       7.182  -0.810  -4.670  1.00  0.00           H  \\nATOM    320 1HA  GLY A  43       8.399  -0.103  -7.333  1.00  0.00           H  \\nATOM    321 2HA  GLY A  43       7.630   1.094  -6.308  1.00  0.00           H  \\nATOM    322  N   GLY A  44       9.452   0.899  -4.313  1.00  0.00           N  \\nATOM    323  CA  GLY A  44      10.645   1.249  -3.502  1.00  0.00           C  \\nATOM    324  C   GLY A  44      10.213   1.726  -2.101  1.00  0.00           C  \\nATOM    325  O   GLY A  44       9.133   2.292  -1.933  1.00  0.00           O  \\nATOM    326  OXT GLY A  44      10.933   1.547  -1.158  1.00  0.00           O  \\nATOM    327  H   GLY A  44       8.532   1.054  -3.927  1.00  0.00           H  \\nATOM    328 1HA  GLY A  44      11.297   0.379  -3.420  1.00  0.00           H  \\nATOM    329 2HA  GLY A  44      11.212   2.029  -4.008  1.00  0.00           H  \\nTER                                                                             \\n\",\"pdb\");\n\tviewer_17031930066241446.zoomTo();\n\tviewer_17031930066241446.setStyle({\"cartoon\": {\"color\": \"spectrum\"}, \"stick\": {\"colorscheme\": \"blackCarbon\", \"radius\": \"0.1\"}});\nviewer_17031930066241446.render();\n});\n</script>"
        },
        "metadata": {},
        "output_type": "display_data"
       }
      ]
     }
    },
    "8be83f26883d425dad6acf3969072710": {
     "model_module": "@jupyter-widgets/base",
     "model_module_version": "1.2.0",
     "model_name": "LayoutModel",
     "state": {
      "_model_module": "@jupyter-widgets/base",
      "_model_module_version": "1.2.0",
      "_model_name": "LayoutModel",
      "_view_count": null,
      "_view_module": "@jupyter-widgets/base",
      "_view_module_version": "1.2.0",
      "_view_name": "LayoutView",
      "align_content": null,
      "align_items": null,
      "align_self": null,
      "border": null,
      "bottom": null,
      "display": null,
      "flex": null,
      "flex_flow": null,
      "grid_area": null,
      "grid_auto_columns": null,
      "grid_auto_flow": null,
      "grid_auto_rows": null,
      "grid_column": null,
      "grid_gap": null,
      "grid_row": null,
      "grid_template_areas": null,
      "grid_template_columns": null,
      "grid_template_rows": null,
      "height": null,
      "justify_content": null,
      "justify_items": null,
      "left": null,
      "margin": null,
      "max_height": null,
      "max_width": null,
      "min_height": null,
      "min_width": null,
      "object_fit": null,
      "object_position": null,
      "order": null,
      "overflow": null,
      "overflow_x": null,
      "overflow_y": null,
      "padding": null,
      "right": null,
      "top": null,
      "visibility": null,
      "width": null
     }
    },
    "be7eaf0f660a4a03825b6e0c07b19637": {
     "model_module": "@jupyter-widgets/controls",
     "model_module_version": "1.5.0",
     "model_name": "SliderStyleModel",
     "state": {
      "_model_module": "@jupyter-widgets/controls",
      "_model_module_version": "1.5.0",
      "_model_name": "SliderStyleModel",
      "_view_count": null,
      "_view_module": "@jupyter-widgets/base",
      "_view_module_version": "1.2.0",
      "_view_name": "StyleView",
      "description_width": "",
      "handle_color": null
     }
    },
    "d078f9b1452c40708781a68d62c9b00e": {
     "model_module": "@jupyter-widgets/controls",
     "model_module_version": "1.5.0",
     "model_name": "VBoxModel",
     "state": {
      "_dom_classes": [
       "widget-interact"
      ],
      "_model_module": "@jupyter-widgets/controls",
      "_model_module_version": "1.5.0",
      "_model_name": "VBoxModel",
      "_view_count": null,
      "_view_module": "@jupyter-widgets/controls",
      "_view_module_version": "1.5.0",
      "_view_name": "VBoxView",
      "box_style": "",
      "children": [
       "IPY_MODEL_fe76057a82a74673bf453b8ce48f7dc2",
       "IPY_MODEL_77501513b92a4573b5be0543a587114c"
      ],
      "layout": "IPY_MODEL_8be83f26883d425dad6acf3969072710"
     }
    },
    "fe76057a82a74673bf453b8ce48f7dc2": {
     "model_module": "@jupyter-widgets/controls",
     "model_module_version": "1.5.0",
     "model_name": "IntSliderModel",
     "state": {
      "_dom_classes": [],
      "_model_module": "@jupyter-widgets/controls",
      "_model_module_version": "1.5.0",
      "_model_name": "IntSliderModel",
      "_view_count": null,
      "_view_module": "@jupyter-widgets/controls",
      "_view_module_version": "1.5.0",
      "_view_name": "IntSliderView",
      "continuous_update": false,
      "description": "Decoys",
      "description_tooltip": null,
      "disabled": false,
      "layout": "IPY_MODEL_492db392357342408cc1711ca5c7b3b4",
      "max": 2,
      "min": 0,
      "orientation": "horizontal",
      "readout": true,
      "readout_format": "d",
      "step": 1,
      "style": "IPY_MODEL_be7eaf0f660a4a03825b6e0c07b19637",
      "value": 2
     }
    }
   }
  }
 },
 "nbformat": 4,
 "nbformat_minor": 0
}
